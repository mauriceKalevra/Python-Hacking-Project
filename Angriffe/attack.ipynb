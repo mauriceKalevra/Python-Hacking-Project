{
 "cells": [
  {
   "cell_type": "code",
   "execution_count": 4,
   "metadata": {},
   "outputs": [],
   "source": [
    "import queue\n",
    "import threading\n",
    "import os\n",
    "import requests\n",
    "from urllib.request import urlopen, Request\n",
    "from urllib.error import HTTPError"
   ]
  },
  {
   "cell_type": "code",
   "execution_count": 9,
   "metadata": {},
   "outputs": [],
   "source": [
    "def mygobuster():\n",
    "    target = \"http://172.17.0.2:1337/\"\n",
    "    global wordlist\n",
    "    wordlist = [a.strip() for a in open(\"wordlist.txt\")]\n",
    "    filters = [\".html\",\".css\",\"\",\".js\", \".jpg\",\".md\",\".png\"]\n",
    "    global directorys\n",
    "    directorys = []\n",
    "    global html_css\n",
    "    html_css = []\n",
    "    for word in wordlist:\n",
    "        for f in filters:\n",
    "            url = target+word+f\n",
    "            re = requests.head(url)\n",
    "            if re.status_code==301:\n",
    "                print(\"Directory found: \", re.url, re.status_code)\n",
    "                directorys.append(re.url)\n",
    "            elif re.status_code==200 and \".html\" in re.url:\n",
    "                print(\"Html file found: \", re.url, re.status_code)\n",
    "                html_css.append(re.url)\n",
    "            elif re.status_code==200 and \"css\" in re.url:\n",
    "                print(\"Css file found: \", re.url, re.status_code)\n",
    "                html_css.append(re.url)\n",
    "            elif re.status_code==200 and \"js\" in re.url:\n",
    "                print(\"Javascript found: \", re.url)\n",
    "            elif re.status_code==200:\n",
    "                print(re.url)\n",
    "                \n",
    "                \n"
   ]
  },
  {
   "cell_type": "code",
   "execution_count": 6,
   "metadata": {},
   "outputs": [],
   "source": [
    "def threadbuster():\n",
    "    threads = len(wordlist)\n",
    "    for i in range(threads):\n",
    "        t = threading.Thread(target=mygobuster)\n",
    "        t.start()"
   ]
  },
  {
   "cell_type": "code",
   "execution_count": null,
   "metadata": {},
   "outputs": [],
   "source": []
  },
  {
   "cell_type": "code",
   "execution_count": null,
   "metadata": {},
   "outputs": [],
   "source": []
  },
  {
   "cell_type": "code",
   "execution_count": null,
   "metadata": {},
   "outputs": [],
   "source": []
  },
  {
   "cell_type": "code",
   "execution_count": null,
   "metadata": {},
   "outputs": [],
   "source": []
  },
  {
   "cell_type": "code",
   "execution_count": null,
   "metadata": {},
   "outputs": [],
   "source": []
  },
  {
   "cell_type": "code",
   "execution_count": null,
   "metadata": {},
   "outputs": [],
   "source": []
  },
  {
   "cell_type": "code",
   "execution_count": null,
   "metadata": {},
   "outputs": [],
   "source": []
  },
  {
   "cell_type": "code",
   "execution_count": null,
   "metadata": {},
   "outputs": [],
   "source": []
  }
 ],
 "metadata": {
  "kernelspec": {
   "display_name": "Python 3",
   "language": "python",
   "name": "python3"
  }
 },
 "nbformat": 4,
 "nbformat_minor": 2
}
