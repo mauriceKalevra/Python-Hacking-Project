{
 "cells": [
  {
   "cell_type": "code",
   "execution_count": 20,
   "metadata": {},
   "outputs": [],
   "source": [
    "import queue\n",
    "import threading\n",
    "import os\n",
    "import requests\n",
    "from urllib.request import urlopen, Request\n",
    "from urllib.error import HTTPError\n",
    "from bs4 import BeautifulSoup"
   ]
  },
  {
   "cell_type": "code",
   "execution_count": 45,
   "metadata": {},
   "outputs": [],
   "source": [
    "def mygobuster(turl):\n",
    "    #target = \"http://172.17.0.2:1337/\"\n",
    "    dirfound = open(\"directories.txt\", \"a\")\n",
    "    htmlfound = open(\"html.txt\", \"a\")\n",
    "    global wordlist\n",
    "    wordlist = [a.strip() for a in open(\"wordlist.txt\")]\n",
    "    filters = [\".html\",\".css\",\"\",\".js\", \".jpg\",\".md\",\".png\"]\n",
    "    for word in wordlist:\n",
    "        for f in filters:\n",
    "            url = turl+word+f\n",
    "            re = requests.head(url)\n",
    "            \n",
    "            if re.status_code==301:\n",
    "                print(\"Directory found: \", re.url, re.status_code)\n",
    "                dirfound.write(re.url+\"\\n\")\n",
    "                newurl = re.url+\"/\"\n",
    "                mygobuster(newurl) \n",
    "            \n",
    "            elif re.status_code==200 and \".html\" in re.url:\n",
    "                print(\"Html file found: \", re.url, re.status_code)\n",
    "                htmlfound.write(re.url+\"\\n\")\n",
    "                \n",
    "            elif re.status_code==200 and \"css\" in re.url:\n",
    "                print(\"Css file found: \", re.url, re.status_code)\n",
    "            \n",
    "            elif re.status_code==200 and \"js\" in re.url:\n",
    "                print(\"Javascript found: \", re.url)\n",
    "            \n",
    "            elif re.status_code==200:\n",
    "                print(re.url)\n",
    "                \n",
    "                \n"
   ]
  },
  {
   "cell_type": "code",
   "execution_count": 46,
   "metadata": {},
   "outputs": [],
   "source": [
    "def threadbuster():\n",
    "    threads = len(wordlist)\n",
    "    for i in range(threads):\n",
    "        t = threading.Thread(target=mygobuster)\n",
    "        t.start()"
   ]
  },
  {
   "cell_type": "code",
   "execution_count": 47,
   "metadata": {},
   "outputs": [],
   "source": [
    "r  = requests.get(\" http://172.17.0.2:1337/data/about/index.html\")\n",
    "data = r.text\n",
    "soup = BeautifulSoup(data)\n",
    "\n",
    "for link in soup.find_all('a'):\n",
    "    print(link.get(\"href\"))\n"
   ]
  },
  {
   "cell_type": "code",
   "execution_count": 48,
   "metadata": {},
   "outputs": [],
   "source": [
    "import scrapy"
   ]
  },
  {
   "cell_type": "code",
   "execution_count": 49,
   "metadata": {},
   "outputs": [
    {
     "name": "stdout",
     "output_type": "stream",
     "text": [
      "Directory found:  http://172.17.0.2:1337/data 301\n",
      "Directory found:  http://172.17.0.2:1337/data/about 301\n",
      "Html file found:  http://172.17.0.2:1337/data/about/index.html 200\n",
      "Directory found:  http://172.17.0.2:1337/data/faq 301\n",
      "Html file found:  http://172.17.0.2:1337/data/faq/index.html 200\n",
      "Directory found:  http://172.17.0.2:1337/data/impressum 301\n",
      "Html file found:  http://172.17.0.2:1337/data/impressum/index.html 200\n",
      "Directory found:  http://172.17.0.2:1337/data/datenschutz 301\n",
      "Html file found:  http://172.17.0.2:1337/data/datenschutz/index.html 200\n",
      "Directory found:  http://172.17.0.2:1337/data/about 301\n",
      "Html file found:  http://172.17.0.2:1337/data/about/index.html 200\n",
      "Directory found:  http://172.17.0.2:1337/data/impressum 301\n",
      "Html file found:  http://172.17.0.2:1337/data/impressum/index.html 200\n",
      "Directory found:  http://172.17.0.2:1337/img 301\n",
      "Directory found:  http://172.17.0.2:1337/img/background-images 301\n",
      "http://172.17.0.2:1337/img/background-images/pic1.jpg\n",
      "http://172.17.0.2:1337/img/background-images/pic2.jpg\n",
      "Html file found:  http://172.17.0.2:1337/about.html 200\n",
      "Html file found:  http://172.17.0.2:1337/index.html 200\n",
      "Html file found:  http://172.17.0.2:1337/biete.html 200\n",
      "http://172.17.0.2:1337/biete\n",
      "Html file found:  http://172.17.0.2:1337/angebote.html 200\n",
      "Html file found:  http://172.17.0.2:1337/faq.html 200\n",
      "Directory found:  http://172.17.0.2:1337/js 301\n",
      "Javascript found:  http://172.17.0.2:1337/js/slideshow.js\n",
      "Directory found:  http://172.17.0.2:1337/static 301\n",
      "Directory found:  http://172.17.0.2:1337/static/js 301\n",
      "Directory found:  http://172.17.0.2:1337/static/css 301\n",
      "Css file found:  http://172.17.0.2:1337/static/css/bootstrap-grid.css 200\n",
      "Directory found:  http://172.17.0.2:1337/static/bootstrap-4.0.0 301\n",
      "Html file found:  http://172.17.0.2:1337/static/bootstrap-4.0.0/index.html 200\n",
      "Directory found:  http://172.17.0.2:1337/static/bootstrap-4.0.0/js 301\n",
      "http://172.17.0.2:1337/static/bootstrap-4.0.0/README.md\n",
      "Css file found:  http://172.17.0.2:1337/stylesheet.css 200\n",
      "Html file found:  http://172.17.0.2:1337/impressum.html 200\n",
      "Html file found:  http://172.17.0.2:1337/datenschutz.html 200\n",
      "Html file found:  http://172.17.0.2:1337/angebote.html 200\n",
      "Html file found:  http://172.17.0.2:1337/myangebote.html 200\n",
      "Html file found:  http://172.17.0.2:1337/suche.html 200\n",
      "Javascript found:  http://172.17.0.2:1337/script.js\n",
      "http://172.17.0.2:1337/README.md\n",
      "http://172.17.0.2:1337/placeholder.png\n",
      "Directory found:  http://172.17.0.2:1337/favicon_io 301\n",
      "Html file found:  http://172.17.0.2:1337/about.html 200\n",
      "Html file found:  http://172.17.0.2:1337/impressum.html 200\n"
     ]
    }
   ],
   "source": [
    "mygobuster(\"http://172.17.0.2:1337/\")"
   ]
  },
  {
   "cell_type": "code",
   "execution_count": 50,
   "metadata": {},
   "outputs": [
    {
     "name": "stdout",
     "output_type": "stream",
     "text": [
      "http://172.17.0.2:1337/data/about\r\n",
      "http://172.17.0.2:1337/data/faq\r\n",
      "http://172.17.0.2:1337/data/impressum\r\n",
      "http://172.17.0.2:1337/data/datenschutz\r\n",
      "http://172.17.0.2:1337/data/about\r\n",
      "http://172.17.0.2:1337/data/impressum\r\n",
      "http://172.17.0.2:1337/img/background-images\r\n",
      "http://172.17.0.2:1337/static/bootstrap-4.0.0/js\r\n",
      "http://172.17.0.2:1337/static/js\r\n",
      "http://172.17.0.2:1337/static/css\r\n",
      "http://172.17.0.2:1337/static/bootstrap-4.0.0\r\n",
      "http://172.17.0.2:1337/data\r\n",
      "http://172.17.0.2:1337/img\r\n",
      "http://172.17.0.2:1337/js\r\n",
      "http://172.17.0.2:1337/static\r\n",
      "http://172.17.0.2:1337/favicon_io\r\n"
     ]
    }
   ],
   "source": [
    "cat directories.txt"
   ]
  },
  {
   "cell_type": "code",
   "execution_count": 51,
   "metadata": {},
   "outputs": [
    {
     "name": "stdout",
     "output_type": "stream",
     "text": [
      "http://172.17.0.2:1337/data/about/index.html\r\n",
      "http://172.17.0.2:1337/data/faq/index.html\r\n",
      "http://172.17.0.2:1337/data/impressum/index.html\r\n",
      "http://172.17.0.2:1337/data/datenschutz/index.html\r\n",
      "http://172.17.0.2:1337/data/about/index.html\r\n",
      "http://172.17.0.2:1337/data/impressum/index.html\r\n",
      "http://172.17.0.2:1337/static/bootstrap-4.0.0/index.html\r\n",
      "http://172.17.0.2:1337/about.html\r\n",
      "http://172.17.0.2:1337/index.html\r\n",
      "http://172.17.0.2:1337/biete.html\r\n",
      "http://172.17.0.2:1337/angebote.html\r\n",
      "http://172.17.0.2:1337/faq.html\r\n",
      "http://172.17.0.2:1337/impressum.html\r\n",
      "http://172.17.0.2:1337/datenschutz.html\r\n",
      "http://172.17.0.2:1337/angebote.html\r\n",
      "http://172.17.0.2:1337/myangebote.html\r\n",
      "http://172.17.0.2:1337/suche.html\r\n",
      "http://172.17.0.2:1337/about.html\r\n",
      "http://172.17.0.2:1337/impressum.html\r\n"
     ]
    }
   ],
   "source": [
    "cat html.txt"
   ]
  },
  {
   "cell_type": "code",
   "execution_count": null,
   "metadata": {},
   "outputs": [],
   "source": []
  },
  {
   "cell_type": "code",
   "execution_count": 110,
   "metadata": {},
   "outputs": [],
   "source": []
  },
  {
   "cell_type": "code",
   "execution_count": null,
   "metadata": {},
   "outputs": [],
   "source": []
  }
 ],
 "metadata": {
  "kernelspec": {
   "display_name": "Python 3",
   "language": "python",
   "name": "python3"
  },
  "language_info": {
   "codemirror_mode": {
    "name": "ipython",
    "version": 3
   },
   "file_extension": ".py",
   "mimetype": "text/x-python",
   "name": "python",
   "nbconvert_exporter": "python",
   "pygments_lexer": "ipython3",
   "version": "3.7.4"
  }
 },
 "nbformat": 4,
 "nbformat_minor": 2
}
