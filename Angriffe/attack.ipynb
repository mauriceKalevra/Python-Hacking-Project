{
 "cells": [
  {
   "cell_type": "code",
   "execution_count": 2,
   "metadata": {},
   "outputs": [
    {
     "name": "stderr",
     "output_type": "stream",
     "text": [
      "/home/sleven/anaconda3/lib/python3.7/site-packages/requests/__init__.py:91: RequestsDependencyWarning: urllib3 (1.26.9) or chardet (3.0.4) doesn't match a supported version!\n",
      "  RequestsDependencyWarning)\n"
     ]
    }
   ],
   "source": [
    "import queue\n",
    "import threading\n",
    "import os\n",
    "import requests\n",
    "from urllib.request import urlopen, Request\n",
    "from urllib.error import HTTPError\n",
    "from bs4 import BeautifulSoup\n",
    "import wget\n",
    "from urllib import request\n",
    "import urllib.request, urllib.error, urllib.parse\n",
    "import re\n"
   ]
  },
  {
   "cell_type": "code",
   "execution_count": 10,
   "metadata": {},
   "outputs": [],
   "source": [
    "def mygobuster(turl):\n",
    "    wordlist = [a.strip() for a in open(\"wordlist.txt\")]\n",
    "    filters = [\".html\",\".css\",\"jpg\", \"\",\".js\",\".md\",\".png\"]\n",
    "    for word in wordlist:\n",
    "        for f in filters:\n",
    "            url = turl+word+f\n",
    "            re = requests.head(url)\n",
    "            \n",
    "            if re.status_code==301:\n",
    "                print(\"Directory found: \", re.url, re.status_code)\n",
    "                newurl = re.url+\"/\"\n",
    "\n",
    "                mygobuster(newurl) \n",
    "            \n",
    "            elif re.status_code==200 :\n",
    "                print(\"Found: \", re.url, re.status_code)\n",
    "                response = urllib.request.urlopen(url)\n",
    "                if \"png\" in response or \"jpg\" in response:\n",
    "                    Content = response.read()\n",
    "                    f = open(\"found/\"+str(re.url).replace(\"/\",\"\"), 'wb+')\n",
    "                Content = response.read().decode('UTF-8')\n",
    "                f = open(\"found/\"+str(re.url).replace(\"/\",\"\"), 'w+')\n",
    "                f.write(Content)\n",
    "            \n",
    "            else:\n",
    "                continue\n",
    "               \n",
    "                \n",
    "\n",
    "                "
   ]
  },
  {
   "cell_type": "code",
   "execution_count": 11,
   "metadata": {},
   "outputs": [
    {
     "name": "stdout",
     "output_type": "stream",
     "text": [
      "Directory found:  http://172.17.0.2:1337/data 301\n",
      "Directory found:  http://172.17.0.2:1337/data/about 301\n",
      "Found:  http://172.17.0.2:1337/data/about/index.html 200\n",
      "Directory found:  http://172.17.0.2:1337/data/faq 301\n",
      "Found:  http://172.17.0.2:1337/data/faq/index.html 200\n",
      "Directory found:  http://172.17.0.2:1337/data/impressum 301\n",
      "Found:  http://172.17.0.2:1337/data/impressum/index.html 200\n",
      "Directory found:  http://172.17.0.2:1337/data/datenschutz 301\n",
      "Found:  http://172.17.0.2:1337/data/datenschutz/index.html 200\n",
      "Directory found:  http://172.17.0.2:1337/data/about 301\n",
      "Found:  http://172.17.0.2:1337/data/about/index.html 200\n",
      "Directory found:  http://172.17.0.2:1337/data/impressum 301\n",
      "Found:  http://172.17.0.2:1337/data/impressum/index.html 200\n",
      "Directory found:  http://172.17.0.2:1337/img 301\n",
      "Directory found:  http://172.17.0.2:1337/img/background-images 301\n",
      "Directory found:  http://172.17.0.2:1337/img/FINDME 301\n",
      "Found:  http://172.17.0.2:1337/about.html 200\n",
      "Found:  http://172.17.0.2:1337/index.html 200\n",
      "Found:  http://172.17.0.2:1337/biete.html 200\n",
      "Found:  http://172.17.0.2:1337/biete 200\n",
      "Found:  http://172.17.0.2:1337/angebote.html 200\n",
      "Found:  http://172.17.0.2:1337/faq.html 200\n",
      "Directory found:  http://172.17.0.2:1337/js 301\n",
      "Found:  http://172.17.0.2:1337/js/slideshow.js 200\n",
      "Directory found:  http://172.17.0.2:1337/static 301\n",
      "Directory found:  http://172.17.0.2:1337/static/js 301\n",
      "Directory found:  http://172.17.0.2:1337/static/css 301\n",
      "Found:  http://172.17.0.2:1337/static/css/bootstrap-grid.css 200\n",
      "Directory found:  http://172.17.0.2:1337/static/bootstrap-4.0.0 301\n",
      "Found:  http://172.17.0.2:1337/static/bootstrap-4.0.0/index.html 200\n",
      "Directory found:  http://172.17.0.2:1337/static/bootstrap-4.0.0/js 301\n",
      "Found:  http://172.17.0.2:1337/static/bootstrap-4.0.0/README.md 200\n",
      "Found:  http://172.17.0.2:1337/stylesheet.css 200\n",
      "Found:  http://172.17.0.2:1337/impressum.html 200\n",
      "Found:  http://172.17.0.2:1337/datenschutz.html 200\n",
      "Found:  http://172.17.0.2:1337/angebote.html 200\n",
      "Found:  http://172.17.0.2:1337/myangebote.html 200\n",
      "Found:  http://172.17.0.2:1337/suche.html 200\n",
      "Found:  http://172.17.0.2:1337/script.js 200\n",
      "Found:  http://172.17.0.2:1337/README.md 200\n",
      "Found:  http://172.17.0.2:1337/placeholder.png 200\n",
      "Directory found:  http://172.17.0.2:1337/favicon_io 301\n",
      "Found:  http://172.17.0.2:1337/about.html 200\n",
      "Found:  http://172.17.0.2:1337/impressum.html 200\n"
     ]
    }
   ],
   "source": [
    "mygobuster(\"http://172.17.0.2:1337/\")"
   ]
  },
  {
   "cell_type": "code",
   "execution_count": 46,
   "metadata": {},
   "outputs": [],
   "source": [
    "def threadbuster():\n",
    "    threads = len(wordlist)\n",
    "    for i in range(threads):\n",
    "        t = threading.Thread(target=mygobuster)\n",
    "        t.start()"
   ]
  },
  {
   "cell_type": "code",
   "execution_count": null,
   "metadata": {},
   "outputs": [],
   "source": [
    "\n"
   ]
  },
  {
   "cell_type": "code",
   "execution_count": 12,
   "metadata": {},
   "outputs": [
    {
     "name": "stdout",
     "output_type": "stream",
     "text": [
      "['\"/data/bgscreen.png\"', '\"/data/pexels-pixabay-273209.jpg\"', '\"img/background-images/pic2.jpg\"']\n"
     ]
    }
   ],
   "source": [
    "import re\n",
    "r  = requests.get(\" http://172.17.0.2:1337/stylesheet.css\")\n",
    "data = r.text\n",
    "\n",
    "l = []\n",
    "for i in re.findall('url\\(([^)]+)\\)',data):\n",
    "    l.append(i)\n",
    "print(l)"
   ]
  },
  {
   "cell_type": "code",
   "execution_count": 13,
   "metadata": {},
   "outputs": [
    {
     "name": "stdout",
     "output_type": "stream",
     "text": [
      "http://172.17.0.2:1337//data/bgscreen.png\n",
      "http://172.17.0.2:1337//data/pexels-pixabay-273209.jpg\n",
      "http://172.17.0.2:1337/img/background-images/pic2.jpg\n"
     ]
    }
   ],
   "source": [
    "t = \"http://172.17.0.2:1337/\"\n",
    "s = [x[1:].strip('\"\"') for x in l]\n",
    "for i in s:\n",
    "    print(t+i)"
   ]
  },
  {
   "cell_type": "code",
   "execution_count": null,
   "metadata": {},
   "outputs": [],
   "source": []
  },
  {
   "cell_type": "code",
   "execution_count": 74,
   "metadata": {},
   "outputs": [
    {
     "ename": "IndentationError",
     "evalue": "expected an indented block (<ipython-input-74-4825847e9af4>, line 56)",
     "output_type": "error",
     "traceback": [
      "\u001b[0;36m  File \u001b[0;32m\"<ipython-input-74-4825847e9af4>\"\u001b[0;36m, line \u001b[0;32m56\u001b[0m\n\u001b[0;31m    s=Service('/home/sleven/Studium/Sem5/Hacking-mit-Python/geckodriver')\u001b[0m\n\u001b[0m    ^\u001b[0m\n\u001b[0;31mIndentationError\u001b[0m\u001b[0;31m:\u001b[0m expected an indented block\n"
     ]
    }
   ],
   "source": [
    "class MySpider():\n",
    "    def __init__(self):\n",
    "        pass\n",
    "        \n",
    "    def mygobuster(self,target):\n",
    "        wordlist = [a.strip() for a in open(\"wordlist.txt\")]\n",
    "        filters = [\".html\",\".css\",\"jpg\", \"\",\".js\",\".md\",\".png\"]\n",
    "        html = open(\"html.txt\", \"a+\") \n",
    "        for word in wordlist:\n",
    "            for f in filters:\n",
    "                url = target+word+f\n",
    "                re = requests.head(url)\n",
    "\n",
    "                if re.status_code==301:\n",
    "                    print(\"Directory found: \", re.url, re.status_code)\n",
    "                    newurl = re.url+\"/\"\n",
    "                    \n",
    "                    self.mygobuster(newurl)\n",
    "\n",
    "                elif re.status_code==200:\n",
    "                    print(\"Found: \", re.url, re.status_code)\n",
    "                    response = urllib.request.urlopen(url)\n",
    "                    if \".html\" in re.url:\n",
    "                        html.write(re.url+\"\\n\")\n",
    "                    try:\n",
    "                        Content = response.read().decode('utf-8')\n",
    "                        f = open(\"found/\"+str(re.url).replace(\"/\",\"\"), 'w+')\n",
    "                        f.write(Content)\n",
    "                        f.close()\n",
    "                    except:\n",
    "                        Content = response.read()\n",
    "                        f = open(\"found/\"+str(re.url).replace(\"/\",\"\"), 'wb+')\n",
    "                        f.write(Content)\n",
    "                        f.close()\n",
    "                else:\n",
    "                    continue\n",
    "\n",
    "    def CSSbuster(self, target):\n",
    "        r  = requests.get(\" http://172.17.0.2:1337/stylesheet.css\")\n",
    "        data = r.text\n",
    "        l = []\n",
    "        for i in re.findall('url\\(([^)]+)\\)',data):\n",
    "            l.append(i)\n",
    "        s = [x[2:].strip('\"\"') for x in l[:2]]\n",
    "        for j in s:\n",
    "            response = urllib.request.urlopen(target+j)\n",
    "            if response.code==200:\n",
    "                con = response.read()\n",
    "                f = open(\"found/\"+str(response.url).replace(\"/\",\"\"), 'wb+')\n",
    "                f.write(con)\n",
    "            else:\n",
    "                pass\n",
    "    \n",
    "    \n",
    "    def myBot():\n",
    "    s=Service('/home/sleven/Studium/Sem5/Hacking-mit-Python/geckodriver')\n",
    "    browser = webdriver.Firefox(service=s)\n",
    "    for url in open(\"html.txt\"):\n",
    "        if url==\"http://172.17.0.2:1337/biete.html\\n\":\n",
    "            browser.get(url)\n",
    "            eingabe = browser.find_element(By.ID,\"ort\")\n",
    "            eingabe.send_keys(\"Salzburg\")\n",
    "            time.sleep(1)\n",
    "            eingabe2 = browser.find_element(By.ID,\"preis\")\n",
    "            eingabe2.send_keys(\"1500\")\n",
    "            time.sleep(1)\n",
    "            eingabe2 = browser.find_element(By.ID,\"zimmer\")\n",
    "            eingabe2.send_keys(\"5\")\n",
    "            time.sleep(1)\n",
    "            eingabe3 = browser.find_element(By.ID,\"flaeche\")\n",
    "            eingabe3.send_keys(\"500\")\n",
    "            time.sleep(1)\n",
    "            eingabe4 = browser.find_element(By.ID,\"kontakt\")\n",
    "            eingabe4.send_keys(\"Mori.r@web.de\")\n",
    "            time.sleep(1)\n",
    "\n",
    "            ein = browser.find_element(By.ID,\"saveimmoButton\")\n",
    "            ein.click()\n",
    "            time.sleep(1)\n",
    "        browser.get(url)\n",
    "        time.sleep(1)\n"
   ]
  },
  {
   "cell_type": "code",
   "execution_count": 31,
   "metadata": {},
   "outputs": [],
   "source": [
    "S = MySpider()"
   ]
  },
  {
   "cell_type": "code",
   "execution_count": 32,
   "metadata": {},
   "outputs": [],
   "source": [
    "S.CSSbuster(\"http://172.17.0.2:1337/\")"
   ]
  },
  {
   "cell_type": "code",
   "execution_count": 33,
   "metadata": {},
   "outputs": [
    {
     "name": "stdout",
     "output_type": "stream",
     "text": [
      "Directory found:  http://172.17.0.2:1337/data 301\n",
      "Directory found:  http://172.17.0.2:1337/data/about 301\n",
      "Found:  http://172.17.0.2:1337/data/about/index.html 200\n",
      "Directory found:  http://172.17.0.2:1337/data/faq 301\n",
      "Found:  http://172.17.0.2:1337/data/faq/index.html 200\n",
      "Directory found:  http://172.17.0.2:1337/data/impressum 301\n",
      "Found:  http://172.17.0.2:1337/data/impressum/index.html 200\n",
      "Directory found:  http://172.17.0.2:1337/data/datenschutz 301\n",
      "Found:  http://172.17.0.2:1337/data/datenschutz/index.html 200\n",
      "Directory found:  http://172.17.0.2:1337/data/about 301\n",
      "Found:  http://172.17.0.2:1337/data/about/index.html 200\n",
      "Directory found:  http://172.17.0.2:1337/data/impressum 301\n",
      "Found:  http://172.17.0.2:1337/data/impressum/index.html 200\n",
      "Directory found:  http://172.17.0.2:1337/img 301\n",
      "Directory found:  http://172.17.0.2:1337/img/background-images 301\n",
      "Found:  http://172.17.0.2:1337/about.html 200\n",
      "Found:  http://172.17.0.2:1337/index.html 200\n",
      "Found:  http://172.17.0.2:1337/biete.html 200\n",
      "Found:  http://172.17.0.2:1337/biete 200\n",
      "Found:  http://172.17.0.2:1337/angebote.html 200\n",
      "Found:  http://172.17.0.2:1337/faq.html 200\n",
      "Directory found:  http://172.17.0.2:1337/js 301\n",
      "Found:  http://172.17.0.2:1337/js/slideshow.js 200\n",
      "Directory found:  http://172.17.0.2:1337/static 301\n",
      "Directory found:  http://172.17.0.2:1337/static/js 301\n",
      "Directory found:  http://172.17.0.2:1337/static/css 301\n",
      "Found:  http://172.17.0.2:1337/static/css/bootstrap-grid.css 200\n",
      "Directory found:  http://172.17.0.2:1337/static/bootstrap-4.0.0 301\n",
      "Found:  http://172.17.0.2:1337/static/bootstrap-4.0.0/index.html 200\n",
      "Directory found:  http://172.17.0.2:1337/static/bootstrap-4.0.0/js 301\n",
      "Found:  http://172.17.0.2:1337/static/bootstrap-4.0.0/README.md 200\n",
      "Found:  http://172.17.0.2:1337/stylesheet.css 200\n",
      "Found:  http://172.17.0.2:1337/impressum.html 200\n",
      "Found:  http://172.17.0.2:1337/datenschutz.html 200\n",
      "Found:  http://172.17.0.2:1337/angebote.html 200\n",
      "Found:  http://172.17.0.2:1337/myangebote.html 200\n",
      "Found:  http://172.17.0.2:1337/suche.html 200\n",
      "Found:  http://172.17.0.2:1337/script.js 200\n",
      "Found:  http://172.17.0.2:1337/README.md 200\n",
      "Found:  http://172.17.0.2:1337/placeholder.png 200\n",
      "Directory found:  http://172.17.0.2:1337/favicon_io 301\n",
      "Found:  http://172.17.0.2:1337/about.html 200\n",
      "Found:  http://172.17.0.2:1337/impressum.html 200\n"
     ]
    }
   ],
   "source": [
    "S.mygobuster(\"http://172.17.0.2:1337/\")"
   ]
  },
  {
   "cell_type": "markdown",
   "metadata": {},
   "source": [
    "**Selenium**"
   ]
  },
  {
   "cell_type": "code",
   "execution_count": 37,
   "metadata": {},
   "outputs": [],
   "source": [
    "from selenium import webdriver\n",
    "from selenium.webdriver.chrome.service import Service\n",
    "import time\n",
    "from selenium.webdriver.common.by import By"
   ]
  },
  {
   "cell_type": "code",
   "execution_count": null,
   "metadata": {},
   "outputs": [],
   "source": [
    "\n"
   ]
  },
  {
   "cell_type": "code",
   "execution_count": 12,
   "metadata": {},
   "outputs": [],
   "source": [
    "s=Service('/home/sleven/Studium/Sem5/Hacking-mit-Python/geckodriver')\n",
    "browser = webdriver.Firefox(service=s)\n",
    "url = 'http://172.17.0.2:1337/biete.html'\n",
    "#driver = webdriver.Firefox(executable_path=\"/home/sleven/Studium/Sem5/Hacking-mit-Python/geckodriver\")\n",
    "browser.get(url)\n",
    "time.sleep(2)"
   ]
  },
  {
   "cell_type": "code",
   "execution_count": 72,
   "metadata": {},
   "outputs": [],
   "source": [
    "def myBot():\n",
    "    s=Service('/home/sleven/Studium/Sem5/Hacking-mit-Python/geckodriver')\n",
    "    browser = webdriver.Firefox(service=s)\n",
    "    for url in open(\"html.txt\"):\n",
    "        if url==\"http://172.17.0.2:1337/biete.html\\n\":\n",
    "            browser.get(url)\n",
    "            eingabe = browser.find_element(By.ID,\"ort\")\n",
    "            eingabe.send_keys(\"Salzburg\")\n",
    "            time.sleep(1)\n",
    "            eingabe2 = browser.find_element(By.ID,\"preis\")\n",
    "            eingabe2.send_keys(\"1500\")\n",
    "            time.sleep(1)\n",
    "            eingabe2 = browser.find_element(By.ID,\"zimmer\")\n",
    "            eingabe2.send_keys(\"5\")\n",
    "            time.sleep(1)\n",
    "            eingabe3 = browser.find_element(By.ID,\"flaeche\")\n",
    "            eingabe3.send_keys(\"500\")\n",
    "            time.sleep(1)\n",
    "            eingabe4 = browser.find_element(By.ID,\"kontakt\")\n",
    "            eingabe4.send_keys(\"Mori.r@web.de\")\n",
    "            time.sleep(1)\n",
    "\n",
    "            ein = browser.find_element(By.ID,\"saveimmoButton\")\n",
    "            ein.click()\n",
    "            time.sleep(1)\n",
    "        browser.get(url)\n",
    "        time.sleep(1)\n",
    "        "
   ]
  },
  {
   "cell_type": "code",
   "execution_count": 73,
   "metadata": {},
   "outputs": [],
   "source": [
    "myBot()"
   ]
  },
  {
   "cell_type": "code",
   "execution_count": 70,
   "metadata": {},
   "outputs": [],
   "source": [
    "import urllib3"
   ]
  },
  {
   "cell_type": "code",
   "execution_count": 71,
   "metadata": {},
   "outputs": [
    {
     "ename": "AttributeError",
     "evalue": "module 'urllib3' has no attribute 'urlopen'",
     "output_type": "error",
     "traceback": [
      "\u001b[0;31m---------------------------------------------------------------------------\u001b[0m",
      "\u001b[0;31mAttributeError\u001b[0m                            Traceback (most recent call last)",
      "\u001b[0;32m<ipython-input-71-5db37b5cd961>\u001b[0m in \u001b[0;36m<module>\u001b[0;34m\u001b[0m\n\u001b[1;32m      1\u001b[0m \u001b[0murl\u001b[0m \u001b[0;34m=\u001b[0m \u001b[0;34m'http://172.17.0.2:1337/'\u001b[0m\u001b[0;34m\u001b[0m\u001b[0;34m\u001b[0m\u001b[0m\n\u001b[1;32m      2\u001b[0m \u001b[0;34m\u001b[0m\u001b[0m\n\u001b[0;32m----> 3\u001b[0;31m \u001b[0mconn\u001b[0m \u001b[0;34m=\u001b[0m \u001b[0murllib3\u001b[0m\u001b[0;34m.\u001b[0m\u001b[0murlopen\u001b[0m\u001b[0;34m(\u001b[0m\u001b[0murl\u001b[0m\u001b[0;34m)\u001b[0m\u001b[0;34m\u001b[0m\u001b[0;34m\u001b[0m\u001b[0m\n\u001b[0m\u001b[1;32m      4\u001b[0m \u001b[0mhtml\u001b[0m \u001b[0;34m=\u001b[0m \u001b[0mconn\u001b[0m\u001b[0;34m.\u001b[0m\u001b[0mread\u001b[0m\u001b[0;34m(\u001b[0m\u001b[0;34m)\u001b[0m\u001b[0;34m\u001b[0m\u001b[0;34m\u001b[0m\u001b[0m\n\u001b[1;32m      5\u001b[0m \u001b[0;34m\u001b[0m\u001b[0m\n",
      "\u001b[0;31mAttributeError\u001b[0m: module 'urllib3' has no attribute 'urlopen'"
     ]
    }
   ],
   "source": [
    "url = 'http://172.17.0.2:1337/'\n",
    "\n",
    "conn = urllib3.\n",
    "html = conn.read()\n",
    "\n",
    "soup = BeautifulSoup(html)\n",
    "links = soup.find_all('a')\n",
    "\n",
    "for tag in links:\n",
    "    link = tag.get('href',None)\n",
    "    if link is not None:\n",
    "        print(link)"
   ]
  },
  {
   "cell_type": "code",
   "execution_count": null,
   "metadata": {},
   "outputs": [],
   "source": []
  }
 ],
 "metadata": {
  "kernelspec": {
   "display_name": "Python 3",
   "language": "python",
   "name": "python3"
  },
  "language_info": {
   "codemirror_mode": {
    "name": "ipython",
    "version": 3
   },
   "file_extension": ".py",
   "mimetype": "text/x-python",
   "name": "python",
   "nbconvert_exporter": "python",
   "pygments_lexer": "ipython3",
   "version": "3.7.4"
  }
 },
 "nbformat": 4,
 "nbformat_minor": 2
}
