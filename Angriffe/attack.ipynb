{
 "cells": [
  {
   "cell_type": "code",
   "execution_count": 1,
   "metadata": {},
   "outputs": [
    {
     "name": "stderr",
     "output_type": "stream",
     "text": [
      "/home/sleven/anaconda3/lib/python3.7/site-packages/requests/__init__.py:91: RequestsDependencyWarning: urllib3 (1.26.9) or chardet (3.0.4) doesn't match a supported version!\n",
      "  RequestsDependencyWarning)\n"
     ]
    }
   ],
   "source": [
    "import queue\n",
    "import threading\n",
    "import os\n",
    "import requests\n",
    "from urllib.request import urlopen, Request\n",
    "from urllib.error import HTTPError\n",
    "from bs4 import BeautifulSoup\n",
    "import wget\n",
    "from urllib import request\n",
    "import urllib.request, urllib.error, urllib.parse\n",
    "import re\n"
   ]
  },
  {
   "cell_type": "code",
   "execution_count": 10,
   "metadata": {},
   "outputs": [],
   "source": [
    "def mygobuster(turl):\n",
    "    wordlist = [a.strip() for a in open(\"wordlist.txt\")]\n",
    "    filters = [\".html\",\".css\",\"jpg\", \"\",\".js\",\".md\",\".png\"]\n",
    "    for word in wordlist:\n",
    "        for f in filters:\n",
    "            url = turl+word+f\n",
    "            re = requests.head(url)\n",
    "            \n",
    "            if re.status_code==301:\n",
    "                print(\"Directory found: \", re.url, re.status_code)\n",
    "                newurl = re.url+\"/\"\n",
    "\n",
    "                mygobuster(newurl) \n",
    "            \n",
    "            elif re.status_code==200 :\n",
    "                print(\"Found: \", re.url, re.status_code)\n",
    "                response = urllib.request.urlopen(url)\n",
    "                if \"png\" in response or \"jpg\" in response:\n",
    "                    Content = response.read()\n",
    "                    f = open(\"found/\"+str(re.url).replace(\"/\",\"\"), 'wb+')\n",
    "                Content = response.read().decode('UTF-8')\n",
    "                f = open(\"found/\"+str(re.url).replace(\"/\",\"\"), 'w+')\n",
    "                f.write(Content)\n",
    "            \n",
    "            else:\n",
    "                continue\n",
    "               \n",
    "                \n",
    "\n",
    "                "
   ]
  },
  {
   "cell_type": "code",
   "execution_count": 11,
   "metadata": {},
   "outputs": [
    {
     "name": "stdout",
     "output_type": "stream",
     "text": [
      "Directory found:  http://172.17.0.2:1337/data 301\n",
      "Directory found:  http://172.17.0.2:1337/data/about 301\n",
      "Found:  http://172.17.0.2:1337/data/about/index.html 200\n",
      "Directory found:  http://172.17.0.2:1337/data/faq 301\n",
      "Found:  http://172.17.0.2:1337/data/faq/index.html 200\n",
      "Directory found:  http://172.17.0.2:1337/data/impressum 301\n",
      "Found:  http://172.17.0.2:1337/data/impressum/index.html 200\n",
      "Directory found:  http://172.17.0.2:1337/data/datenschutz 301\n",
      "Found:  http://172.17.0.2:1337/data/datenschutz/index.html 200\n",
      "Directory found:  http://172.17.0.2:1337/data/about 301\n",
      "Found:  http://172.17.0.2:1337/data/about/index.html 200\n",
      "Directory found:  http://172.17.0.2:1337/data/impressum 301\n",
      "Found:  http://172.17.0.2:1337/data/impressum/index.html 200\n",
      "Directory found:  http://172.17.0.2:1337/img 301\n",
      "Directory found:  http://172.17.0.2:1337/img/background-images 301\n",
      "Directory found:  http://172.17.0.2:1337/img/FINDME 301\n",
      "Found:  http://172.17.0.2:1337/about.html 200\n",
      "Found:  http://172.17.0.2:1337/index.html 200\n",
      "Found:  http://172.17.0.2:1337/biete.html 200\n",
      "Found:  http://172.17.0.2:1337/biete 200\n",
      "Found:  http://172.17.0.2:1337/angebote.html 200\n",
      "Found:  http://172.17.0.2:1337/faq.html 200\n",
      "Directory found:  http://172.17.0.2:1337/js 301\n",
      "Found:  http://172.17.0.2:1337/js/slideshow.js 200\n",
      "Directory found:  http://172.17.0.2:1337/static 301\n",
      "Directory found:  http://172.17.0.2:1337/static/js 301\n",
      "Directory found:  http://172.17.0.2:1337/static/css 301\n",
      "Found:  http://172.17.0.2:1337/static/css/bootstrap-grid.css 200\n",
      "Directory found:  http://172.17.0.2:1337/static/bootstrap-4.0.0 301\n",
      "Found:  http://172.17.0.2:1337/static/bootstrap-4.0.0/index.html 200\n",
      "Directory found:  http://172.17.0.2:1337/static/bootstrap-4.0.0/js 301\n",
      "Found:  http://172.17.0.2:1337/static/bootstrap-4.0.0/README.md 200\n",
      "Found:  http://172.17.0.2:1337/stylesheet.css 200\n",
      "Found:  http://172.17.0.2:1337/impressum.html 200\n",
      "Found:  http://172.17.0.2:1337/datenschutz.html 200\n",
      "Found:  http://172.17.0.2:1337/angebote.html 200\n",
      "Found:  http://172.17.0.2:1337/myangebote.html 200\n",
      "Found:  http://172.17.0.2:1337/suche.html 200\n",
      "Found:  http://172.17.0.2:1337/script.js 200\n",
      "Found:  http://172.17.0.2:1337/README.md 200\n",
      "Found:  http://172.17.0.2:1337/placeholder.png 200\n",
      "Directory found:  http://172.17.0.2:1337/favicon_io 301\n",
      "Found:  http://172.17.0.2:1337/about.html 200\n",
      "Found:  http://172.17.0.2:1337/impressum.html 200\n"
     ]
    }
   ],
   "source": [
    "mygobuster(\"http://172.17.0.2:1337/\")"
   ]
  },
  {
   "cell_type": "code",
   "execution_count": 46,
   "metadata": {},
   "outputs": [],
   "source": [
    "def threadbuster():\n",
    "    threads = len(wordlist)\n",
    "    for i in range(threads):\n",
    "        t = threading.Thread(target=mygobuster)\n",
    "        t.start()"
   ]
  },
  {
   "cell_type": "code",
   "execution_count": null,
   "metadata": {},
   "outputs": [],
   "source": [
    "\n"
   ]
  },
  {
   "cell_type": "code",
   "execution_count": 12,
   "metadata": {},
   "outputs": [
    {
     "name": "stdout",
     "output_type": "stream",
     "text": [
      "['\"/data/bgscreen.png\"', '\"/data/pexels-pixabay-273209.jpg\"', '\"img/background-images/pic2.jpg\"']\n"
     ]
    }
   ],
   "source": [
    "import re\n",
    "r  = requests.get(\" http://172.17.0.2:1337/stylesheet.css\")\n",
    "data = r.text\n",
    "\n",
    "l = []\n",
    "for i in re.findall('url\\(([^)]+)\\)',data):\n",
    "    l.append(i)\n",
    "print(l)"
   ]
  },
  {
   "cell_type": "code",
   "execution_count": 13,
   "metadata": {},
   "outputs": [
    {
     "name": "stdout",
     "output_type": "stream",
     "text": [
      "http://172.17.0.2:1337//data/bgscreen.png\n",
      "http://172.17.0.2:1337//data/pexels-pixabay-273209.jpg\n",
      "http://172.17.0.2:1337/img/background-images/pic2.jpg\n"
     ]
    }
   ],
   "source": [
    "t = \"http://172.17.0.2:1337/\"\n",
    "s = [x[1:].strip('\"\"') for x in l]\n",
    "for i in s:\n",
    "    print(t+i)"
   ]
  },
  {
   "cell_type": "code",
   "execution_count": null,
   "metadata": {},
   "outputs": [],
   "source": []
  },
  {
   "cell_type": "code",
   "execution_count": 7,
   "metadata": {},
   "outputs": [],
   "source": [
    "class MySpider():\n",
    "    def __init__(self):\n",
    "        pass\n",
    "    \n",
    "        #self.target = target\n",
    "        \n",
    "    def mygobuster(self, target):\n",
    "        wordlist = [a.strip() for a in open(\"wordlist.txt\")]\n",
    "        filters = [\".html\",\".css\",\"jpg\", \"\",\".js\",\".md\",\".png\"]\n",
    "        for word in wordlist:\n",
    "            for f in filters:\n",
    "                url = target+word+f\n",
    "                re = requests.head(url)\n",
    "\n",
    "                if re.status_code==301:\n",
    "                    print(\"Directory found: \", re.url, re.status_code)\n",
    "                    newurl = re.url+\"/\"\n",
    "                    \n",
    "                    self.mygobuster(newurl)\n",
    "\n",
    "                elif re.status_code==200 :\n",
    "                    print(\"Found: \", re.url, re.status_code)\n",
    "                    response = urllib.request.urlopen(url)\n",
    "                    if \"png\" in response or \"jpg\" in response:\n",
    "                        Content = response.read()\n",
    "                        f = open(\"found/\"+str(re.url).replace(\"/\",\"\"), 'wb+')\n",
    "                    Content = response.read().decode('UTF-8')\n",
    "                    f = open(\"found/\"+str(re.url).replace(\"/\",\"\"), 'w+')\n",
    "                    f.write(Content)\n",
    "\n",
    "                else:\n",
    "                    continue\n",
    "\n",
    "    def CSSDownloader(self):\n",
    "        \n",
    "        r  = requests.get(\" http://172.17.0.2:1337/stylesheet.css\")\n",
    "        data = r.text\n",
    "        l = []\n",
    "        for i in re.findall('url\\(([^)]+)\\)',data):\n",
    "            l.append(i)\n",
    "        s = [x[2:].strip('\"\"') for x in l[:2]]\n",
    "        for j in s:\n",
    "            response = urllib.request.urlopen(self.target+j)\n",
    "            if response.code==200:\n",
    "                con = response.read()\n",
    "                f = open(\"found/\"+str(response.url).replace(\"/\",\"\"), 'wb+')\n",
    "                f.write(con)\n",
    "            else:\n",
    "                pass\n"
   ]
  },
  {
   "cell_type": "code",
   "execution_count": 8,
   "metadata": {},
   "outputs": [],
   "source": [
    "S = MySpider()"
   ]
  },
  {
   "cell_type": "code",
   "execution_count": 9,
   "metadata": {},
   "outputs": [
    {
     "name": "stdout",
     "output_type": "stream",
     "text": [
      "Directory found:  http://172.17.0.2:1337/data 301\n",
      "Directory found:  http://172.17.0.2:1337/data/about 301\n",
      "Found:  http://172.17.0.2:1337/data/about/index.html 200\n",
      "Directory found:  http://172.17.0.2:1337/data/faq 301\n",
      "Found:  http://172.17.0.2:1337/data/faq/index.html 200\n",
      "Directory found:  http://172.17.0.2:1337/data/impressum 301\n",
      "Found:  http://172.17.0.2:1337/data/impressum/index.html 200\n",
      "Directory found:  http://172.17.0.2:1337/data/datenschutz 301\n",
      "Found:  http://172.17.0.2:1337/data/datenschutz/index.html 200\n",
      "Directory found:  http://172.17.0.2:1337/data/about 301\n",
      "Found:  http://172.17.0.2:1337/data/about/index.html 200\n",
      "Directory found:  http://172.17.0.2:1337/data/impressum 301\n",
      "Found:  http://172.17.0.2:1337/data/impressum/index.html 200\n",
      "Directory found:  http://172.17.0.2:1337/img 301\n",
      "Directory found:  http://172.17.0.2:1337/img/background-images 301\n",
      "Directory found:  http://172.17.0.2:1337/img/FINDME 301\n",
      "Found:  http://172.17.0.2:1337/about.html 200\n",
      "Found:  http://172.17.0.2:1337/index.html 200\n",
      "Found:  http://172.17.0.2:1337/biete.html 200\n",
      "Found:  http://172.17.0.2:1337/biete 200\n",
      "Found:  http://172.17.0.2:1337/angebote.html 200\n",
      "Found:  http://172.17.0.2:1337/faq.html 200\n",
      "Directory found:  http://172.17.0.2:1337/js 301\n",
      "Found:  http://172.17.0.2:1337/js/slideshow.js 200\n",
      "Directory found:  http://172.17.0.2:1337/static 301\n",
      "Directory found:  http://172.17.0.2:1337/static/js 301\n",
      "Directory found:  http://172.17.0.2:1337/static/css 301\n",
      "Found:  http://172.17.0.2:1337/static/css/bootstrap-grid.css 200\n",
      "Directory found:  http://172.17.0.2:1337/static/bootstrap-4.0.0 301\n",
      "Found:  http://172.17.0.2:1337/static/bootstrap-4.0.0/index.html 200\n",
      "Directory found:  http://172.17.0.2:1337/static/bootstrap-4.0.0/js 301\n",
      "Found:  http://172.17.0.2:1337/static/bootstrap-4.0.0/README.md 200\n",
      "Found:  http://172.17.0.2:1337/stylesheet.css 200\n",
      "Found:  http://172.17.0.2:1337/impressum.html 200\n",
      "Found:  http://172.17.0.2:1337/datenschutz.html 200\n",
      "Found:  http://172.17.0.2:1337/angebote.html 200\n",
      "Found:  http://172.17.0.2:1337/myangebote.html 200\n",
      "Found:  http://172.17.0.2:1337/suche.html 200\n",
      "Found:  http://172.17.0.2:1337/script.js 200\n",
      "Found:  http://172.17.0.2:1337/README.md 200\n",
      "Found:  http://172.17.0.2:1337/placeholder.png 200\n",
      "Directory found:  http://172.17.0.2:1337/favicon_io 301\n",
      "Found:  http://172.17.0.2:1337/about.html 200\n",
      "Found:  http://172.17.0.2:1337/impressum.html 200\n"
     ]
    }
   ],
   "source": [
    "S.mygobuster(\"http://172.17.0.2:1337/\")"
   ]
  },
  {
   "cell_type": "code",
   "execution_count": null,
   "metadata": {},
   "outputs": [],
   "source": []
  },
  {
   "cell_type": "code",
   "execution_count": null,
   "metadata": {},
   "outputs": [],
   "source": []
  },
  {
   "cell_type": "code",
   "execution_count": null,
   "metadata": {},
   "outputs": [],
   "source": []
  }
 ],
 "metadata": {
  "kernelspec": {
   "display_name": "Python 3",
   "language": "python",
   "name": "python3"
  },
  "language_info": {
   "codemirror_mode": {
    "name": "ipython",
    "version": 3
   },
   "file_extension": ".py",
   "mimetype": "text/x-python",
   "name": "python",
   "nbconvert_exporter": "python",
   "pygments_lexer": "ipython3",
   "version": "3.7.4"
  }
 },
 "nbformat": 4,
 "nbformat_minor": 2
}
